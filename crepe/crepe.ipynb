{
  "nbformat": 4,
  "nbformat_minor": 0,
  "metadata": {
    "colab": {
      "name": "my_crepe.ipynb",
      "private_outputs": true,
      "provenance": [],
      "collapsed_sections": [],
      "toc_visible": true,
      "machine_shape": "hm",
      "include_colab_link": true
    },
    "kernelspec": {
      "name": "python3",
      "display_name": "Python 3"
    },
    "accelerator": "GPU"
  },
  "cells": [
    {
      "cell_type": "markdown",
      "metadata": {
        "id": "view-in-github",
        "colab_type": "text"
      },
      "source": [
        "<a href=\"https://colab.research.google.com/github/wolfisberg/zhaw-ba-online/blob/main/crepe/crepe.ipynb\" target=\"_parent\"><img src=\"https://colab.research.google.com/assets/colab-badge.svg\" alt=\"Open In Colab\"/></a>"
      ]
    },
    {
      "cell_type": "markdown",
      "metadata": {
        "id": "CU5ZvlGglGDd"
      },
      "source": [
        "# Imports"
      ]
    },
    {
      "cell_type": "code",
      "metadata": {
        "id": "0Q42BY8BPSoL",
        "collapsed": true
      },
      "source": [
        "!pip install mir_eval\n",
        "!pip install rt_pie_lib\n",
        "import os\n",
        "import numpy as np\n",
        "import tensorflow as tf\n",
        "import scipy.interpolate\n",
        "import matplotlib.pyplot as plt\n",
        "import shutil\n",
        "import datetime\n",
        "import mir_eval\n",
        "import math\n",
        "\n",
        "%load_ext tensorboard\n",
        "\n",
        "\n",
        "from google.colab import drive\n",
        "drive.mount('/content/drive')"
      ],
      "execution_count": null,
      "outputs": []
    },
    {
      "cell_type": "markdown",
      "metadata": {
        "id": "Z8nh41ellB7K"
      },
      "source": [
        "# Config"
      ]
    },
    {
      "cell_type": "code",
      "metadata": {
        "id": "CWZIc9-WSItM",
        "collapsed": true
      },
      "source": [
        "# Audio\n",
        "SNR_RANGE = (-5.0,20.0) #dB\n",
        "FRAME_LENGTH = 1024\n",
        "FRAME_STEP = 512\n",
        "MIN_RAND_GAIN = 0.05\n",
        "MAX_RAND_GAIN = 1.1\n",
        "SAMPLE_LENGTH = 3 #shorter than shortest noise/speech sample\n",
        "FS = 16000\n",
        "PITCH_SAMPLING_TIME = 0.01 # s\n",
        "PITCH_FRAME_LENGTH = 0.032 # s\n",
        "\n",
        "\n",
        "# Data\n",
        "BATCH_SIZE = 32\n",
        "NUM_FRAMES = 1 + (FS * SAMPLE_LENGTH - FRAME_LENGTH) // FRAME_STEP\n",
        "# NUM_FRAMES = 1\n",
        "\n",
        "# Training\n",
        "STEPS_PER_EPOCH = 500\n",
        "EPOCHS = 100\n",
        "VALIDATION_STEPS = 5\n",
        "\n",
        "\n",
        "# Directories\n",
        "_DATA_DIR = os.path.join('/content/drive/MyDrive/BA_2021/')\n",
        "_TFRECORDS_DIR = os.path.join(_DATA_DIR, 'tfrecords')\n",
        "\n",
        "SPEECH_DATA_TR_DIR = os.path.join(_TFRECORDS_DIR, 'speech', 'tr')\n",
        "NOISE_DATA_TR_DIR = os.path.join(_TFRECORDS_DIR, 'noise', 'tr')\n",
        "SPEECH_DATA_CV_DIR = os.path.join(_TFRECORDS_DIR, 'speech', 'cv')\n",
        "NOISE_DATA_CV_DIR = os.path.join(_TFRECORDS_DIR, 'noise', 'cv')\n",
        "SPEECH_DATA_TT_DIR = os.path.join(_TFRECORDS_DIR, 'speech', 'tt')\n",
        "NOISE_DATA_TT_DIR = os.path.join(_TFRECORDS_DIR, 'noise', 'tt')\n",
        "\n",
        "TIMESTAMP = datetime.datetime.now().strftime(\"%Y%m%d-%H%M%S\")\n",
        "\n",
        "\n",
        "# Misc\n",
        "SEED = 2\n",
        "\n",
        "\n",
        "# Parsing\n",
        "PARSING_CONFIG_NOISE = {\n",
        "    'data': tf.io.VarLenFeature(tf.string),\n",
        "    'data_sampling_rate': tf.io.VarLenFeature(tf.int64),\n",
        "    'data_num_channels': tf.io.VarLenFeature(tf.int64),\n",
        "    'data_width': tf.io.VarLenFeature(tf.int64),\n",
        "}\n",
        "\n",
        "PARSING_CONFIG_SPEECH = {\n",
        "    'data': tf.io.VarLenFeature(tf.string),\n",
        "    'data_sampling_rate': tf.io.VarLenFeature(tf.int64),\n",
        "    'data_num_channels': tf.io.VarLenFeature(tf.int64),\n",
        "    'data_width': tf.io.VarLenFeature(tf.int64),\n",
        "    'pitch': tf.io.VarLenFeature(tf.float32),\n",
        "    'pitch_confidence': tf.io.VarLenFeature(tf.float32),\n",
        "}\n",
        "\n"
      ],
      "execution_count": null,
      "outputs": []
    },
    {
      "cell_type": "code",
      "metadata": {
        "id": "2DQaQ8neunsZ"
      },
      "source": [
        "print(NOISE_DATA_TR_DIR)"
      ],
      "execution_count": null,
      "outputs": []
    },
    {
      "cell_type": "markdown",
      "metadata": {
        "id": "V-kwHYrpmCgl"
      },
      "source": [
        "# Data"
      ]
    },
    {
      "cell_type": "markdown",
      "metadata": {
        "id": "dmb9w4ACwoUi"
      },
      "source": [
        "## Copy Data to Runtime"
      ]
    },
    {
      "cell_type": "code",
      "metadata": {
        "id": "MYKlRsmDwsKM"
      },
      "source": [
        "DATA_DIR_LOCAL = '/content/data'\n",
        "\n",
        "if not os.path.exists(DATA_DIR_LOCAL):\n",
        "    os.mkdir(DATA_DIR_LOCAL)\n",
        "    \n",
        "    RECORD_DIR_LOCAL = os.path.join(DATA_DIR_LOCAL, 'tfrecords')\n",
        "    shutil.copytree(_TFRECORDS_DIR, RECORD_DIR_LOCAL)\n",
        "\n",
        "\n",
        "_TFRECORDS_DIR = os.path.join(DATA_DIR_LOCAL, 'tfrecords')"
      ],
      "execution_count": null,
      "outputs": []
    },
    {
      "cell_type": "markdown",
      "metadata": {
        "id": "nlkFt3Nvsqn-"
      },
      "source": [
        "## Process Data"
      ]
    },
    {
      "cell_type": "code",
      "metadata": {
        "id": "ZhwJchGumFSo"
      },
      "source": [
        "def _parse_noise_record(serialized_example):\n",
        "    parsed_features = tf.io.parse_single_example(serialized_example, features=PARSING_CONFIG_NOISE)\n",
        "    decoded_features = {\n",
        "        \"data_num_channels\": tf.cast(parsed_features[\"data_num_channels\"].values[0], tf.int32),\n",
        "        \"data_sampling_rate\": tf.cast(parsed_features[\"data_sampling_rate\"].values[0], tf.int32),\n",
        "        \"data_width\": tf.cast(parsed_features[\"data_width\"].values[0], tf.int32),\n",
        "    }\n",
        "    data = tf.io.decode_raw(parsed_features['data'].values[0], tf.int16)\n",
        "    decoded_features.update({\"data\": data})\n",
        "    return decoded_features\n",
        "\n",
        "\n",
        "def _parse_speech_record(serialized_example):\n",
        "    parsed_features = tf.io.parse_single_example(serialized_example, features=PARSING_CONFIG_SPEECH)\n",
        "    decoded_features = {\n",
        "        \"data_num_channels\": tf.cast(parsed_features[\"data_num_channels\"].values[0], tf.int32),\n",
        "        \"data_sampling_rate\": tf.cast(parsed_features[\"data_sampling_rate\"].values[0], tf.int32),\n",
        "        \"data_width\": tf.cast(parsed_features[\"data_width\"].values[0], tf.int32),\n",
        "        \"pitch\": tf.cast(parsed_features['pitch'].values, tf.float32),\n",
        "        \"pitch_confidence\": tf.cast(parsed_features['pitch_confidence'].values, tf.float32),\n",
        "    }\n",
        "    data = tf.io.decode_raw(parsed_features['data'].values[0], tf.int16)\n",
        "    decoded_features.update({\"data\": data})\n",
        "    return decoded_features\n",
        "\n",
        "\n",
        "def _mix_noisy_speech(speech, noise):\n",
        "    speech_pow = tf.math.reduce_euclidean_norm(speech)\n",
        "    noise_pow = tf.math.reduce_euclidean_norm(noise)\n",
        "\n",
        "    min_SNR = SNR_RANGE[0]\n",
        "    max_SNR = SNR_RANGE[1]\n",
        "    snr_current = 20.0*tf.math.log(speech_pow/noise_pow)/tf.math.log(10.0)\n",
        "    snr_target = tf.random.uniform((),minval=min_SNR,maxval=max_SNR)\n",
        "\n",
        "    noise = noise * tf.math.pow(10.0,(snr_current-snr_target)/20.0)\n",
        "    noisy_speech = speech+noise\n",
        "\n",
        "    return speech, noise, noisy_speech\n",
        "\n",
        "\n",
        "def _interpolate_pitch(pitch,t):\n",
        "    pitches = pitch.numpy()\n",
        "    t = t.numpy()\n",
        "    t_pitch = np.arange(0, len(pitch)) * PITCH_SAMPLING_TIME + PITCH_FRAME_LENGTH / 2\n",
        "    f = scipy.interpolate.interp1d(t_pitch, pitch, 'nearest')\n",
        "    return f(t).astype(np.float32)\n",
        "\n",
        "def convert_hz_to_cent(f,fref=10.0):\n",
        "    return mir_eval.melody.hz2cents(np.array(f), fref)\n",
        "\n",
        "def calc_bin(freq_cent, cents_per_bin = 20, lower_bound_freq=32.7):  \n",
        "    freq_cent = np.squeeze(freq_cent)\n",
        "    lower_bound_freq_cent = mir_eval.melody.hz2cents(np.array([lower_bound_freq]))\n",
        "    bin = (freq_cent - lower_bound_freq_cent) / np.array([cents_per_bin])\n",
        "    return np.clip(bin, 0, 359)\n",
        "\n",
        "def calc_y(f_groundtruth, n_bins = 360):\n",
        "    c_true = calc_bin(f_groundtruth)\n",
        "    return create_bin_vector(c_true)\n",
        "\n",
        "def create_bin_vector(c_true):\n",
        "    cis = np.arange(360)\n",
        "    y = [gaussian_blur(cis, i) for i in c_true]\n",
        "    return np.squeeze(y)\n",
        "    \n",
        "def gaussian_blur(ci, ctrue):\n",
        "    return np.exp(-(ci-ctrue)**2/(2.0*25.0**2))\n",
        "\n",
        "@tf.function\n",
        "def _interpolate_pitch_tf(pitch,t):\n",
        "    y = tf.py_function(_interpolate_pitch,[pitch,t], Tout=tf.float32)\n",
        "    return tf.squeeze(y)\n",
        "\n",
        "@tf.function\n",
        "def _convert_hz_to_cent(pitch):\n",
        "    y = tf.py_function(convert_hz_to_cent,[pitch], Tout=tf.float32)\n",
        "    return tf.squeeze(y)\n",
        "\n",
        "@tf.function\n",
        "def _calc_y(pitch_cents):\n",
        "    y = tf.py_function(calc_y,[pitch_cents], Tout=tf.float32)\n",
        "    return tf.squeeze(y)\n",
        "\n",
        "def _calc_features(speech_data, noise_data):\n",
        "    speech = tf.squeeze(tf.cast(speech_data[\"data\"], tf.float32))\n",
        "    noise = tf.squeeze(tf.cast(noise_data[\"data\"], tf.float32))\n",
        "    speech = speech / tf.int16.max\n",
        "    noise = noise / tf.int16.max\n",
        "\n",
        "    random_start_idx = int(tf.round(tf.random.uniform([], maxval=(\n",
        "             tf.cast(len(noise), tf.float32) - SAMPLE_LENGTH * FS - PITCH_SAMPLING_TIME))))\n",
        "    noise = noise[random_start_idx:random_start_idx + SAMPLE_LENGTH * FS]\n",
        "\n",
        "    random_start_idx = int(tf.round(tf.random.uniform([], minval=161, maxval=(\n",
        "            tf.cast(len(speech), tf.float32) - SAMPLE_LENGTH * FS - 161))))\n",
        "    speech = speech[random_start_idx:random_start_idx + SAMPLE_LENGTH * FS]   \n",
        "\n",
        "    #SNR_range = SNR_RANGE\n",
        "    frame_length = FRAME_LENGTH\n",
        "    frame_step = FRAME_STEP\n",
        "    speech, noise, noisy = _mix_noisy_speech(speech, noise)\n",
        "\n",
        "    random_gain = tf.math.exp(\n",
        "        tf.random.uniform([], minval=tf.math.log(MIN_RAND_GAIN), maxval=tf.math.log(MAX_RAND_GAIN)))\n",
        "    noisy = random_gain * noisy\n",
        "\n",
        "    noisy_frames = tf.signal.frame(noisy, frame_length, frame_step)\n",
        "    speech_frames = tf.signal.frame(speech, frame_length, frame_step)\n",
        "    noisy_frames = tf.squeeze(noisy_frames)\n",
        "    speech_frames = tf.squeeze(speech_frames)\n",
        "    #noisy_stft = tf.signal.stft(noisy,frame_length,frame_step)\n",
        "    frame_times = random_start_idx / FS + tf.range(0, NUM_FRAMES) * frame_step / FS + frame_length / FS\n",
        "    \n",
        "    pitch = tf.squeeze(speech_data[\"pitch\"])    \n",
        "    pitch_confidence = tf.squeeze(speech_data[\"pitch_confidence\"])\n",
        "    #pitch = tf.where(pitch_confidence>config['pitch_confidence_threshold'],pitch,0)\n",
        "    pitch_interpolated = _interpolate_pitch_tf(pitch, frame_times)\n",
        "    pitch_interpolated_cents = _convert_hz_to_cent(pitch_interpolated)\n",
        "    pitch_bins = _calc_y(pitch_interpolated_cents)\n",
        "    return noisy_frames, pitch_bins"
      ],
      "execution_count": null,
      "outputs": []
    },
    {
      "cell_type": "markdown",
      "metadata": {
        "id": "w0TKt5eSs0SF"
      },
      "source": [
        "## Provide Data"
      ]
    },
    {
      "cell_type": "code",
      "metadata": {
        "id": "kiU-wMWPs2dZ"
      },
      "source": [
        "def get_training_data():\n",
        "    speech_ds = tf.data.TFRecordDataset([os.path.join(SPEECH_DATA_TR_DIR, file) for file in os.listdir(SPEECH_DATA_TR_DIR)])\n",
        "    speech_ds = speech_ds.map(_parse_speech_record).repeat(None).shuffle(buffer_size=1000, seed=SEED)\n",
        "\n",
        "    noise_ds = tf.data.TFRecordDataset([os.path.join(NOISE_DATA_TR_DIR, file) for file in os.listdir(NOISE_DATA_TR_DIR)])\n",
        "    noise_ds = noise_ds.map(_parse_noise_record).repeat(None).shuffle(buffer_size=1000, seed=SEED)\n",
        "\n",
        "    dataset_combined = tf.data.Dataset.zip((speech_ds, noise_ds))\n",
        "    dataset_features = dataset_combined.map(_calc_features, num_parallel_calls=tf.data.experimental.AUTOTUNE)\n",
        "    dataset_features = dataset_features.batch(BATCH_SIZE, drop_remainder=True).prefetch(tf.data.experimental.AUTOTUNE)\n",
        "    # just use if crepe without time component\n",
        "    dataset_features = dataset_features.unbatch().unbatch().shuffle(3000).batch(BATCH_SIZE)\n",
        "    return dataset_features\n",
        "\n",
        "\n",
        "def get_validation_data():\n",
        "    speech_ds = tf.data.TFRecordDataset([os.path.join(SPEECH_DATA_CV_DIR, file) for file in os.listdir(SPEECH_DATA_CV_DIR)])\n",
        "    speech_ds = speech_ds.map(_parse_speech_record).repeat(None).shuffle(buffer_size=1000, seed=SEED)\n",
        "\n",
        "    noise_ds = tf.data.TFRecordDataset([os.path.join(NOISE_DATA_CV_DIR, file) for file in os.listdir(NOISE_DATA_CV_DIR)])\n",
        "    noise_ds = noise_ds.map(_parse_noise_record).repeat(None).shuffle(buffer_size=1000, seed=SEED)\n",
        "\n",
        "    dataset_combined = tf.data.Dataset.zip((speech_ds, noise_ds))\n",
        "    dataset_features = dataset_combined.map(_calc_features, num_parallel_calls=tf.data.experimental.AUTOTUNE)\n",
        "    dataset_features = dataset_features.batch(BATCH_SIZE, drop_remainder=True).prefetch(tf.data.experimental.AUTOTUNE)\n",
        "    # just use if crepe without time component\n",
        "    dataset_features = dataset_features.unbatch().unbatch().shuffle(3000).batch(BATCH_SIZE)\n",
        "\n",
        "    return dataset_features\n",
        "\n",
        "\n",
        "def get_test_data():\n",
        "    speech_ds = tf.data.TFRecordDataset([os.path.join(SPEECH_DATA_TT_DIR, file) for file in os.listdir(SPEECH_DATA_TT_DIR)])\n",
        "    # speech_ds = speech_ds.map(_parse_speech_record).repeat(None).shuffle(buffer_size=1000, seed=SEED)\n",
        "    speech_ds = speech_ds.map(_parse_speech_record).repeat(10).shuffle(buffer_size=1000, seed=SEED)\n",
        "\n",
        "\n",
        "    noise_ds = tf.data.TFRecordDataset([os.path.join(NOISE_DATA_TT_DIR, file) for file in os.listdir(NOISE_DATA_TT_DIR)])\n",
        "    # noise_ds = noise_ds.map(_parse_noise_record).repeat(None).shuffle(buffer_size=1000, seed=SEED)\n",
        "    noise_ds = noise_ds.map(_parse_noise_record).repeat(10).shuffle(buffer_size=1000, seed=SEED)\n",
        "\n",
        "\n",
        "    dataset_combined = tf.data.Dataset.zip((speech_ds, noise_ds))\n",
        "    dataset_features = dataset_combined.map(_calc_features, num_parallel_calls=tf.data.experimental.AUTOTUNE)\n",
        "    dataset_features = dataset_features.batch(BATCH_SIZE, drop_remainder=True).prefetch(tf.data.experimental.AUTOTUNE)\n",
        "    # just use if crepe without time component\n",
        "    dataset_features = dataset_features.unbatch().unbatch().shuffle(3000).batch(BATCH_SIZE)\n",
        "\n",
        "    return dataset_features"
      ],
      "execution_count": null,
      "outputs": []
    },
    {
      "cell_type": "markdown",
      "metadata": {
        "id": "XdIXYFTDoN1j"
      },
      "source": [
        "# Models"
      ]
    },
    {
      "cell_type": "markdown",
      "metadata": {
        "id": "gLnYza9woPzS"
      },
      "source": [
        "## CREPE"
      ]
    },
    {
      "cell_type": "markdown",
      "metadata": {
        "id": "vmKx4gLkKjwQ"
      },
      "source": [
        "## Crepe with time component"
      ]
    },
    {
      "cell_type": "code",
      "metadata": {
        "id": "Eqf-W1MYml8T"
      },
      "source": [
        "from tensorflow.keras.layers import Input, Reshape, Conv2D, BatchNormalization\n",
        "from tensorflow.keras.layers import MaxPool2D, Dropout, Permute, Flatten, Dense\n",
        "from tensorflow.keras.models import Model\n",
        "\n",
        "\n",
        "def get_model_crepe():\n",
        "    layers = [1, 2, 3, 4, 5, 6]\n",
        "    filters = [n * 32 for n in [32, 4, 4, 4, 8, 16]]\n",
        "    widths = [512, 64, 64, 64, 64, 64]\n",
        "    strides = [(1, 4), (1, 1), (1, 1), (1, 1), (1, 1), (1, 1)]\n",
        "\n",
        "    x = Input(shape=(184,1024), name='input', dtype='float32')\n",
        "    y = Reshape(target_shape=(184, 1024, 1), name='input-reshape')(x)\n",
        "\n",
        "    for l, f, w, s in zip(layers, filters, widths, strides):\n",
        "        y = Conv2D(f, (1, w), strides=s, padding='same',\n",
        "                   activation='relu', name=\"conv%d\" % l)(y)\n",
        "        y = BatchNormalization(name=\"conv%d-BN\" % l)(y)\n",
        "        y = MaxPool2D(pool_size=(1, 2), strides=None, padding='valid',\n",
        "                      name=\"conv%d-maxpool\" % l)(y)\n",
        "        y = Dropout(0.25, name=\"conv%d-dropout\" % l)(y)\n",
        "\n",
        "    y = Reshape(target_shape=(184, 2048), name='output-reshape')(y)\n",
        "    y = Dense(1, name=\"classifier\")(y)\n",
        "\n",
        "    model = Model(inputs=x, outputs=y)\n",
        "    model.compile('adam', 'mse', metrics=['mse', 'mae'])\n",
        "\n",
        "    return model\n"
      ],
      "execution_count": null,
      "outputs": []
    },
    {
      "cell_type": "markdown",
      "metadata": {
        "id": "ueM1L2voXcpY"
      },
      "source": [
        "## Crepe without time component"
      ]
    },
    {
      "cell_type": "code",
      "metadata": {
        "id": "iPygi-4sKooq"
      },
      "source": [
        "from tensorflow.keras.layers import Input, Reshape, Conv2D, BatchNormalization\n",
        "from tensorflow.keras.layers import MaxPool2D, Dropout, Permute, Flatten, Dense\n",
        "from tensorflow.keras.models import Model\n",
        "\n",
        "def get_model_crepe():\n",
        "    layers = [1, 2, 3, 4, 5, 6]\n",
        "    filters = [n * 32 for n in [32, 4, 4, 4, 8, 16]]\n",
        "    widths = [512, 64, 64, 64, 64, 64]\n",
        "    strides = [(4, 1), (1, 1), (1, 1), (1, 1), (1, 1), (1, 1)]\n",
        "\n",
        "    x = Input(shape=(FRAME_LENGTH,), name='input', dtype='float32')\n",
        "    y = Reshape(target_shape=(FRAME_LENGTH, 1, 1), name='input-reshape')(x)\n",
        "\n",
        "    for layer, filters, width, strides in zip(layers, filters, widths, strides):\n",
        "        y = Conv2D(filters, (width, 1), strides=strides, padding='same',\n",
        "                   activation='relu', name=\"conv%d\" % layer)(y)\n",
        "        y = BatchNormalization(name=\"conv%d-BN\" % layer)(y)\n",
        "        y = MaxPool2D(pool_size=(2, 1), strides=None, padding='valid',\n",
        "                         name=\"conv%d-maxpool\" % layer)(y)\n",
        "        y = Dropout(0.25, name=\"conv%d-dropout\" % layer)(y)\n",
        "\n",
        "    y = Permute((2, 1, 3), name=\"transpose\")(y)\n",
        "    y = Flatten(name=\"flatten\")(y)\n",
        "    y = Dense(360, activation='sigmoid', name=\"classifier\")(y)\n",
        "\n",
        "    model = Model(inputs=x, outputs=y)\n",
        "    model.compile('adam', 'binary_crossentropy', metrics=['mse', 'mae'])\n",
        "\n",
        "    return model"
      ],
      "execution_count": null,
      "outputs": []
    },
    {
      "cell_type": "markdown",
      "metadata": {
        "id": "KV-SpsYhaCNV"
      },
      "source": [
        "# Training"
      ]
    },
    {
      "cell_type": "markdown",
      "metadata": {
        "id": "2g6YW7mUtA64"
      },
      "source": [
        "## Load Data"
      ]
    },
    {
      "cell_type": "code",
      "metadata": {
        "collapsed": true,
        "id": "uU1pyCDPm8C7"
      },
      "source": [
        "dataset_training = get_training_data()\n",
        "dataset_validation = get_validation_data()\n",
        "dataset_test = get_test_data()"
      ],
      "execution_count": null,
      "outputs": []
    },
    {
      "cell_type": "markdown",
      "metadata": {
        "id": "3dzEiCs_tDcJ"
      },
      "source": [
        "## Load Model"
      ]
    },
    {
      "cell_type": "code",
      "metadata": {
        "id": "poP21a6TnLHO"
      },
      "source": [
        "model = get_model_crepe()"
      ],
      "execution_count": null,
      "outputs": []
    },
    {
      "cell_type": "code",
      "metadata": {
        "collapsed": true,
        "id": "33_wEPK8nNfC"
      },
      "source": [
        "model.summary()"
      ],
      "execution_count": null,
      "outputs": []
    },
    {
      "cell_type": "markdown",
      "metadata": {
        "id": "LbVgnmcitIjt"
      },
      "source": [
        "## Fit Model"
      ]
    },
    {
      "cell_type": "code",
      "metadata": {
        "id": "vHZ4eMqMnchd",
        "collapsed": true
      },
      "source": [
        "%tensorboard --logdir /content/drive/MyDrive/BA_2021/crepe/logs"
      ],
      "execution_count": null,
      "outputs": []
    },
    {
      "cell_type": "code",
      "metadata": {
        "id": "uViHy2ZFXwHQ"
      },
      "source": [
        "# USE IF IT IS INITIAL TRAINING\n",
        "\n",
        "MODEL_USED = 'crepe'\n",
        "LOG_DIR = os.path.join(_DATA_DIR, MODEL_USED, 'logs', TIMESTAMP + '_2048_1024_100_Epochs')\n",
        "if not os.path.exists(LOG_DIR):\n",
        "    os.makedirs(LOG_DIR)\n",
        "CHECKPOINT_DIR = os.path.join(_DATA_DIR, MODEL_USED, 'checkpoints', TIMESTAMP + '_2048_1024_100_Epochs')\n",
        "if not os.path.exists(CHECKPOINT_DIR):\n",
        "    os.makedirs(CHECKPOINT_DIR)"
      ],
      "execution_count": null,
      "outputs": []
    },
    {
      "cell_type": "code",
      "metadata": {
        "id": "Tn0JRWrccNJH"
      },
      "source": [
        "# JUST USE IF CONTINUING TRAINING\n",
        "\n",
        "CHECKPOINT_DIR = '/content/drive/MyDrive/BA_2021/crepe/checkpoints/20210427-145400'\n",
        "LOGDIR = '/content/drive/MyDrive/BA_2021/crepe/logs/20210427-145400'\n",
        "model.load_weights(os.path.join('/content/drive/MyDrive/BA_2021/crepe/checkpoints', '20210427-145400', '50-2063.93.hdf5'))"
      ],
      "execution_count": null,
      "outputs": []
    },
    {
      "cell_type": "code",
      "metadata": {
        "collapsed": true,
        "id": "OMUc5cRQnSNQ"
      },
      "source": [
        "tensorboard_callback = tf.keras.callbacks.TensorBoard(LOG_DIR, histogram_freq=1)\n",
        "checkpoint = tf.keras.callbacks.ModelCheckpoint(filepath=os.path.join(CHECKPOINT_DIR,'{epoch:02d}-{val_loss:.2f}.hdf5'))\n",
        "early_stopping =  tf.keras.callbacks.EarlyStopping(monitor='val_loss', min_delta=0, patience=32, mode='min')\n",
        "\n",
        "callbacks = [checkpoint, tensorboard_callback, early_stopping]\n",
        "\n",
        "\n",
        "history = model.fit(\n",
        "    dataset_training,\n",
        "    steps_per_epoch=STEPS_PER_EPOCH,\n",
        "    epochs=100,\n",
        "    # initial_epoch=30,\n",
        "    verbose = 1,\n",
        "    validation_data = dataset_validation,\n",
        "    validation_steps=VALIDATION_STEPS,\n",
        "    callbacks = callbacks)\n",
        "    \n",
        "loss = model.evaluate(dataset_test, steps=1)"
      ],
      "execution_count": null,
      "outputs": []
    },
    {
      "cell_type": "markdown",
      "metadata": {
        "id": "mqR7EegbnWtc"
      },
      "source": [
        "# Metrics"
      ]
    },
    {
      "cell_type": "markdown",
      "metadata": {
        "id": "4DdeFMeKYAlc"
      },
      "source": [
        "## Load Model from Drive"
      ]
    },
    {
      "cell_type": "code",
      "metadata": {
        "id": "C4eqzLWm0XrP"
      },
      "source": [
        "# 1024 / 512\n",
        "model.load_weights(os.path.join('/content/drive/MyDrive/BA_2021/crepe/checkpoints', '20210502-200638_1024_512_100_Epochs', '100-0.19.hdf5'))"
      ],
      "execution_count": null,
      "outputs": []
    },
    {
      "cell_type": "code",
      "metadata": {
        "id": "AAxbdnKj-B3f"
      },
      "source": [
        "# 512 / 256\n",
        "model.load_weights(os.path.join('/content/drive/MyDrive/BA_2021/crepe/checkpoints', '20210503-140919_512_256_100_Epochs', '100-0.21.hdf5'))"
      ],
      "execution_count": null,
      "outputs": []
    },
    {
      "cell_type": "code",
      "metadata": {
        "id": "HRj1qCCne9Ey"
      },
      "source": [
        "# 256 / 128 \n",
        "model.load_weights(os.path.join('/content/drive/MyDrive/BA_2021/crepe/checkpoints', '20210503-193459_256_128_100_Epochs', '84-0.22.hdf5'))"
      ],
      "execution_count": null,
      "outputs": []
    },
    {
      "cell_type": "markdown",
      "metadata": {
        "id": "jR3sEaNMYree"
      },
      "source": [
        "## Predictions"
      ]
    },
    {
      "cell_type": "code",
      "metadata": {
        "id": "G4VZ9k6IqB1p"
      },
      "source": [
        "converters.convert_hz_to_cent(np.array([32.7]))"
      ],
      "execution_count": null,
      "outputs": []
    },
    {
      "cell_type": "code",
      "metadata": {
        "id": "mxPH7q__LjON"
      },
      "source": [
        "from scipy.signal import argrelextrema\n",
        "def convert_bin_to_local_average_cents(salience, center=None):\n",
        "    \"\"\"\n",
        "    find the weighted average cents near the argmax bin\n",
        "    \"\"\"\n",
        "    if not hasattr(convert_bin_to_local_average_cents, 'cents_mapping'):\n",
        "        # the bin number-to-cents mapping\n",
        "        convert_bin_to_local_average_cents.cents_mapping = (\n",
        "                np.linspace(0, 7180, 360) + 2051.14876287)\n",
        "    if salience.ndim == 1:\n",
        "        center = int(np.argmax(salience))\n",
        "        start = max(0, center - 4)\n",
        "        end = min(len(salience), center + 5)\n",
        "        salience = salience[start:end]\n",
        "        product_sum = np.sum(\n",
        "            salience * convert_bin_to_local_average_cents.cents_mapping[start:end])\n",
        "        weight_sum = np.sum(salience)\n",
        "        return product_sum / weight_sum\n",
        "    if salience.ndim == 2:\n",
        "        return np.array([convert_bin_to_local_average_cents(salience[i, :]) for i in\n",
        "                         range(salience.shape[0])])\n",
        "    raise Exception(\"Label should be either 1d or 2d ndarray.\")\n",
        "\n",
        "\n",
        "def convert_bin_to_local_average_cents_lowest_maxima(salience, center=None, maxima_order=5, maxima_minval=0.2, tolerance=0.1):\n",
        "    \"\"\"\n",
        "    find the weighted average cents near the argmax bin todo\n",
        "    \"\"\"\n",
        "    if salience.ndim == 1:\n",
        "        \n",
        "        # if salience[0] > 0.2:\n",
        "        #     salience = __create_maximum_bin(0)\n",
        "        #     return convert_bin_to_local_average_cents(np.squeeze(salience), center=center)\n",
        "        \n",
        "        # else:\n",
        "            #maxima = argrelextrema(salience, np.greater, order=maxima_order)[0]\n",
        "        maxima = np.argmax(salience)\n",
        "        if maxima == 0 and salience[0] < 0.8:    \n",
        "            maxima = argrelextrema(salience, np.greater, order=maxima_order)[0]\n",
        "            maxima = [x if x >= 51 and x <= 217 else 0 for x in maxima]\n",
        "            maxima = np.max(maxima)\n",
        "            salience = __create_maximum_bin(maxima)\n",
        "        # maxima = [(x, converters.convert_cent_to_hz(convert_bin_to_local_average_cents(__create_maximum_bin(x))))\n",
        "        #           for x in maxima if salience[x] >= maxima_minval]\n",
        "        # if len(maxima) > 1:\n",
        "        #     success, idx = __try_find_f0_in_maxima(maxima, tolerance=tolerance)\n",
        "        #     if success:\n",
        "        #         salience = np.zeros(360)\n",
        "        #       salience[maxima[idx][0]] = 1\n",
        "        return convert_bin_to_local_average_cents(salience, center=center)\n",
        "\n",
        "    if salience.ndim == 2:\n",
        "        return np.array([convert_bin_to_local_average_cents_lowest_maxima(salience[i, :]) for i in\n",
        "                         range(salience.shape[0])])\n",
        "\n",
        "    raise Exception(\"Label should be either 1d or 2d ndarray.\")\n",
        "\n",
        "\n",
        "def __create_maximum_bin(index):\n",
        "    b = np.zeros(360)\n",
        "    b[index] = 1\n",
        "    return b\n",
        "\n",
        "def __try_find_f0_in_maxima_true_negativs(maxima):\n",
        "    maxima.sort(key=lambda x: x[1])\n",
        "    for i in range (len(maxima) -1):\n",
        "        max_current = maxima[i][1]\n",
        "\n",
        "\n",
        "def __try_find_f0_in_maxima(maxima, tolerance=0.1):\n",
        "    maxima.sort(key=lambda x: x[1])\n",
        "    for i in range(len(maxima) - 1):\n",
        "        max_current = maxima[i][1]\n",
        "        max_next = maxima[i + 1][1]\n",
        "        rel_diff = abs(max_current * 2 - max_next) / max_next\n",
        "        if rel_diff <= tolerance:\n",
        "            return True, i\n",
        "    return False, None"
      ],
      "execution_count": null,
      "outputs": []
    },
    {
      "cell_type": "code",
      "metadata": {
        "id": "YjoBC_EGA9F5"
      },
      "source": [
        "def convert_hz_to_cent(f,fref=10.0):\n",
        "    return 1200.0*np.log2(f/fref)\n",
        "\n",
        "def convert_cent_to_hz(c,fref=10.0):\n",
        "    return fref*2**(c/1200.0)\n",
        "def calc_bin(freq, cents_per_bin = 20, lower_bound_freq=32.7):\n",
        "    return (convert_hz_to_cent(freq)-convert_hz_to_cent(lower_bound_freq))/cents_per_bin\n",
        "def create_bin(c_true):\n",
        "    cis = np.arange(360)\n",
        "    y = gaussian_blur(cis, c_true)\n",
        "    return y\n",
        "\n",
        "def gauss_blur(ci, ctrue):\n",
        "    return np.exp(-(ci-ctrue)**2/(2.0*25.0**2))"
      ],
      "execution_count": null,
      "outputs": []
    },
    {
      "cell_type": "code",
      "metadata": {
        "id": "NWAYjn7IEOMc"
      },
      "source": [
        "bin = calc_bin(np.array([60]))\n",
        "bin"
      ],
      "execution_count": null,
      "outputs": []
    },
    {
      "cell_type": "code",
      "metadata": {
        "id": "iNimXmd5_fpi"
      },
      "source": [
        "vector = np.load('crepe_pred_vector_1024_512.npy')\n",
        "vector_gt = np.load('crepe_true_vector_1024_512.npy')"
      ],
      "execution_count": null,
      "outputs": []
    },
    {
      "cell_type": "code",
      "metadata": {
        "id": "NubyZu07Il3b"
      },
      "source": [
        "import math\n",
        "true_hz_new = np.array([])\n",
        "pred_hz_new = []\n",
        "\n",
        "\n",
        "for i in range(len(vector)):\n",
        "    pred = converters.convert_cent_to_hz(convert_bin_to_local_average_cents_lowest_maxima(vector[i]))\n",
        "    if math.isnan(pred):\n",
        "        print(i)\n",
        "    pred_hz_new.append(pred)\n",
        "    \n",
        "\n",
        "    \n",
        "\n"
      ],
      "execution_count": null,
      "outputs": []
    },
    {
      "cell_type": "code",
      "metadata": {
        "id": "LvTF0eX6NRPS"
      },
      "source": [
        "diff_new = true_hz - pred_hz_new"
      ],
      "execution_count": null,
      "outputs": []
    },
    {
      "cell_type": "code",
      "metadata": {
        "id": "KGMlVDjTBOy2"
      },
      "source": [
        "plt.figure()\n",
        "plt.plot(vector[402])\n",
        "plt.plot(vector_gt[402])\n",
        "plt.show()"
      ],
      "execution_count": null,
      "outputs": []
    },
    {
      "cell_type": "code",
      "metadata": {
        "id": "NYuzXQqqQ_Qo"
      },
      "source": [
        "#x = argrelextrema(vector[8756], np.greater, order= 10)\n",
        "x = convert_bin_to_local_average_cents_lowest_maxima(vector[402])\n",
        "x"
      ],
      "execution_count": null,
      "outputs": []
    },
    {
      "cell_type": "code",
      "metadata": {
        "id": "op5hvbRHAAUM"
      },
      "source": [
        "## Hertz filter\n",
        "combined = zip(true_hz, pred_hz_new)\n",
        "filtered = combined\n",
        "# filtered = [x for x in list(combined) if x[0] > 60 and x[0] < 400 and x[1] > 60 and x[1] < 400]\n",
        "filtered_unzipped = np.array(list(zip(*filtered)))\n",
        "diff_filtered = filtered_unzipped[0] - filtered_unzipped[1]\n",
        "print(len(diff), len(diff_filtered))\n",
        "## Cent filter\n",
        "combined_cent = zip(true_cent, predicted_cent)\n",
        "filtered_cent = [x for x in list(combined_cent) if x[0] > 3101.95500087 and x[1] > 3101.95500087]\n",
        "filtered_c_unzipped = np.array(list(zip(*filtered_cent)))\n",
        "diff_filtered_cent = filtered_c_unzipped[0] - filtered_c_unzipped[1]\n",
        "plt.rcParams.update({'font.size': 22})\n",
        "from rt_pie_lib import metrics\n",
        "hz_metrics = metrics.get_hz_metrics(filtered_unzipped[0], filtered_unzipped[1], print_output=True)\n",
        "rpa_cent = metrics.raw_pitch_accuracy_cent(filtered_c_unzipped[0], filtered_c_unzipped[1])\n",
        "print(rpa_cent)\n",
        "hist = histogram(diff_filtered)"
      ],
      "execution_count": null,
      "outputs": []
    },
    {
      "cell_type": "code",
      "metadata": {
        "id": "H6ucPJnobUMw"
      },
      "source": [
        "from rt_pie_lib import converters\n",
        "def prediction():\n",
        "    predicted_c = []\n",
        "    true_c = []\n",
        "    inp_vector = []\n",
        "    predicted_vector = []\n",
        "    for inp, outp in dataset_test:\n",
        "        predicted = model.predict(inp)\n",
        "        predicted_vector.append(predicted)\n",
        "        inp_vector.append(outp) \n",
        "        true_cents = converters.convert_bin_to_local_average_cents(outp)\n",
        "        true_c.append(true_cents)\n",
        "        #predicted_cents = convert_bin_to_local_average_cents_lowest_maxima(np.squeeze(predicted))\n",
        "        predicted_cents = convert_bin_to_local_average_cents(np.squeeze(predicted))\n",
        "        predicted_c.append(predicted_cents)\n",
        "\n",
        "    predicted_vector = np.reshape(np.array(predicted_vector), ((len(predicted_vector) * len(predicted_vector[0]), 360)))\n",
        "    inp_vector = np.reshape(np.array(inp_vector), ((len(inp_vector) * len(inp_vector[0]), 360)))\n",
        "    \n",
        "    true_c = np.reshape(np.array(true_c), (1, (len(true_c)*len(true_c[0]))))\n",
        "    true_c = np.squeeze(true_c)\n",
        "    true_hz = converters.convert_cent_to_hz(true_c)\n",
        "    predicted_c = np.reshape(np.array(predicted_c), (1, (len(predicted_c)*len(predicted_c[0]))))\n",
        "    predicted_c = np.squeeze(predicted_c)\n",
        "    predicted_hz = converters.convert_cent_to_hz(predicted_c)\n",
        "    diff = true_hz - predicted_hz\n",
        "    return predicted_hz, true_hz, true_c, predicted_c, diff, inp_vector, predicted_vector"
      ],
      "execution_count": null,
      "outputs": []
    },
    {
      "cell_type": "code",
      "metadata": {
        "id": "KKk9wYgivEGK"
      },
      "source": [
        "predicted_hz, true_hz, true_cent, predicted_cent, diff, inp_vector, predicted_vector = prediction()"
      ],
      "execution_count": null,
      "outputs": []
    },
    {
      "cell_type": "code",
      "metadata": {
        "id": "lod_WunZVvhc"
      },
      "source": [
        "np.save('crepe_predicted_hz_1024_512.npy', predicted_hz)\n",
        "np.save('crepe_true_hz_1024_512.npy', true_hz)\n",
        "np.save('crepe_true_vector_1024_512.npy', inp_vector)\n",
        "np.save('crepe_pred_vector_1024_512.npy', predicted_vector)\n",
        "np.save('crepe_diff_1024_512.npy', diff)\n"
      ],
      "execution_count": null,
      "outputs": []
    },
    {
      "cell_type": "markdown",
      "metadata": {
        "id": "x4LPGpFaYwvU"
      },
      "source": [
        "### Filter predction"
      ]
    },
    {
      "cell_type": "code",
      "metadata": {
        "id": "CUs_jXsA-8h5"
      },
      "source": [
        "## Hertz filter\n",
        "combined = zip(true_hz, predicted_hz_new)\n",
        "# filtered = combined\n",
        "filtered = [x for x in list(combined) if x[0] > 60 and x[0] < 400 and x[1] > 60 and x[1] < 400]\n",
        "filtered_unzipped = np.array(list(zip(*filtered)))\n",
        "diff_filtered = filtered_unzipped[0] - filtered_unzipped[1]\n",
        "print(len(diff), len(diff_filtered))\n",
        "## Cent filter\n",
        "combined_cent = zip(true_cent, predicted_cent)\n",
        "filtered_cent = [x for x in list(combined_cent) if x[0] > 3101.95500087 and x[1] > 3101.95500087]\n",
        "filtered_c_unzipped = np.array(list(zip(*filtered_cent)))\n",
        "diff_filtered_cent = filtered_c_unzipped[0] - filtered_c_unzipped[1]"
      ],
      "execution_count": null,
      "outputs": []
    },
    {
      "cell_type": "markdown",
      "metadata": {
        "id": "2hxG8_YoRsi-"
      },
      "source": [
        "## Zero Pitch Analysis"
      ]
    },
    {
      "cell_type": "code",
      "metadata": {
        "id": "2FL3Mj_QRwEi"
      },
      "source": [
        "tn = 0\n",
        "tp = 0\n",
        "fp = 0\n",
        "fn = 0\n",
        "\n",
        "\n",
        "for i in range(len(true_hz)):\n",
        "    if true_hz[i] >= 30 and true_hz[i] <= 35 and pred_hz_new[i] >= 30 and pred_hz_new[i] <= 35:\n",
        "        tp += 1\n",
        "        continue\n",
        "    if true_hz[i] > 35 and pred_hz_new[i] > 35:\n",
        "        tn += 1\n",
        "        continue\n",
        "    if true_hz[i] >= 30 and true_hz[i] <= 35 and pred_hz_new[i] > 35:\n",
        "        fn += 1\n",
        "        continue\n",
        "    if true_hz[i] > 35 and pred_hz_new[i] >= 30 and pred_hz_new[i] <= 35:\n",
        "        fp += 1\n",
        "        continue\n",
        "\n",
        "# for i in range(len(true_hz)):\n",
        "#     if true_hz[i] >= 30 and true_hz[i] <= 35 and predicted_hz[i] >= 30 and predicted_hz[i] <= 35:\n",
        "#         tp += 1\n",
        "#         continue\n",
        "#     if true_hz[i] > 35 and predicted_hz[i] > 35:\n",
        "#         tn += 1\n",
        "#         continue\n",
        "#     if true_hz[i] >= 30 and true_hz[i] <= 35 and predicted_hz[i] > 35:\n",
        "#         fn += 1\n",
        "#         continue\n",
        "#     if true_hz[i] > 35 and predicted_hz[i] >= 30 and predicted_hz[i] <= 35:\n",
        "#         fp += 1\n",
        "#         continue\n",
        "\n",
        "\n",
        "\n",
        "sum = tp + fp + tn + fn\n",
        "percentage_zero_truth = (tp + fn) / sum * 100\n",
        "percentage_zero_predicted = (tp + fp) / sum * 100\n",
        "precision = tp / (tp + fp) * 100  # Anteil unserer 0 schätzungen die richtig sind\n",
        "recall = tp / (tp + fn) * 100  # Wieviele der tatsächlichen 0 schätzungen haben wir erwischt\n",
        "accuracy = (tp + tn) / sum * 100  # Anteil richtige predictions\n",
        "f1 = 2 * (precision * recall) / (precision + recall)\n",
        "\n",
        "tn_percentage = tn / sum * 100\n",
        "tp_percentage = tp / sum * 100\n",
        "fp_percentage = fp / sum * 100\n",
        "fn_percentage = fn / sum * 100\n",
        "\n",
        "print(\"Sample size (test data set): \", sum)\n",
        "print(\"0 - % in ground truth: \", \"%.2f\" % percentage_zero_truth)\n",
        "print(\"0 - % in predictions: \",  \"%.2f\" % percentage_zero_predicted)\n",
        "print(\"Accuarcy: \", \"%.2f\" % accuracy)\n",
        "print(\"Precision: \", \"%.2f\" % precision)\n",
        "print(\"Recall: \", \"%.2f\" % recall)\n",
        "print(\"F1-Score\", \"%.2f\" % f1)\n",
        "print(\"True Negatives: \", \"%.2f\" % tn_percentage)\n",
        "print(\"True Positives: \", \"%.2f\" % tp_percentage)\n",
        "print(\"False Positives: \", \"%.2f\" % fp_percentage)\n",
        "print(\"False Negatives: \", \"%.2f\" % fn_percentage)"
      ],
      "execution_count": null,
      "outputs": []
    },
    {
      "cell_type": "markdown",
      "metadata": {
        "id": "1FMCniedeeHC"
      },
      "source": [
        "## Hz Values with factor 2"
      ]
    },
    {
      "cell_type": "code",
      "metadata": {
        "id": "rn3U7V-K254G"
      },
      "source": [
        "plt.rcParams.update({'font.size': 12})\n",
        "counter = 0\n",
        "trues = np.array([])\n",
        "preds = np.array([])\n",
        "for i in range(len(diff)):\n",
        "    if diff[i] > 50:\n",
        "        plt.figure(i)\n",
        "        plt.plot(inp_vector[i], 'r', label='ground truth')\n",
        "        plt.plot(predicted_vector[i], 'b', label='predicted')\n",
        "        plt.plot(np.argmax(inp_vector[i]),np.max(inp_vector[i]),'x')\n",
        "        plt.plot(np.argmax(predicted_vector[i]),np.max(predicted_vector[i]),'x')\n",
        "        # plt.text(np.argmax(inp_vector[i])+10,np.max(inp_vector[i]),f'max={np.max(inp_vector[i]):.1f} @ bin {np.argmax(inp_vector[i])}')\n",
        "        # plt.text(np.argmax(predicted_vector[i])+10,np.max(predicted_vector[i]),f'max={np.max(predicted_vector[i]):.1f} @ bin {np.argmax(predicted_vector[i])}')\n",
        "        plt.xlabel(\"Vector\")\n",
        "        plt.ylabel(\"Pitch Confidence\")\n",
        "        plt.legend()\n",
        "        plt.show()\n",
        "\n",
        "        \n",
        "        print('True Hz: ', true_hz[i], 'Predicted Hz: ',predicted_hz[i], i)\n",
        "        # trues = np.append(trues, filtered_unzipped[0][i])\n",
        "        # preds = np.append(preds, filtered_unzipped[1][i])\n",
        "        counter += 1\n",
        "        # if counter == 60:\n",
        "        #     break  \n",
        "print(counter)"
      ],
      "execution_count": null,
      "outputs": []
    },
    {
      "cell_type": "code",
      "metadata": {
        "id": "Y-4Qi7YpLlTl"
      },
      "source": [
        ""
      ],
      "execution_count": null,
      "outputs": []
    },
    {
      "cell_type": "code",
      "metadata": {
        "id": "078rFFV6UMe2"
      },
      "source": [
        "divided = np.divide(preds, trues)\n",
        "np.mean(divided)\n"
      ],
      "execution_count": null,
      "outputs": []
    },
    {
      "cell_type": "markdown",
      "metadata": {
        "id": "kQ2347buZISB"
      },
      "source": [
        "## Metrics evaluation"
      ]
    },
    {
      "cell_type": "code",
      "metadata": {
        "id": "zr6y9h0_cCRJ"
      },
      "source": [
        "plt.rcParams.update({'font.size': 22})\n",
        "from rt_pie_lib import metrics\n",
        "hz_metrics = metrics.get_hz_metrics(filtered_unzipped[0], filtered_unzipped[1], print_output=True)\n",
        "rpa_cent = metrics.raw_pitch_accuracy_cent(filtered_c_unzipped[0], filtered_c_unzipped[1])\n",
        "print(rpa_cent)\n",
        "hist = histogram(diff_filtered)"
      ],
      "execution_count": null,
      "outputs": []
    },
    {
      "cell_type": "markdown",
      "metadata": {
        "id": "3AQZnM4evk9p"
      },
      "source": [
        "## Plots"
      ]
    },
    {
      "cell_type": "code",
      "metadata": {
        "id": "-qtgyIEBiJz7"
      },
      "source": [
        "def histogram(diff):  \n",
        "    n_bins = 250\n",
        "    x = diff\n",
        "    y = true_hz\n",
        "\n",
        "    plt.figure(figsize=[16,9])\n",
        "    plt.hist(x, bins=n_bins)\n",
        "    #plt.xlim([-200, 200])\n",
        "    plt.ylim([0, 30000])\n",
        "    plt.axvline(np.median(x), color='k', linestyle='dashed', linewidth=2, label='MED')\n",
        "    plt.axvline(np.mean(x), color='k', linestyle='solid', linewidth=2, label='MEAN')\n",
        "    plt.axvline(np.quantile(x, 0.05), color='k', linestyle='dotted', linewidth=2, label='5% quantile')\n",
        "    plt.axvline(np.quantile(x, 0.95), color='k', linestyle='dashdot', linewidth=2, label='95% quantile')\n",
        "    plt.xlabel(\"Error in Hertz\")\n",
        "    plt.ylabel(\"Number of Errors\")\n",
        "    plt.legend()\n",
        "    plt.show()\n",
        "\n",
        "# histo = histogram(diff)\n",
        "# histo_true = histogram([x[0] - x[1] for x in filtered])"
      ],
      "execution_count": null,
      "outputs": []
    },
    {
      "cell_type": "markdown",
      "metadata": {
        "id": "5ZErxYNe1bFr"
      },
      "source": [
        "## Debug"
      ]
    },
    {
      "cell_type": "code",
      "metadata": {
        "id": "hM1IhBo8sNwT"
      },
      "source": [
        "err = np.array([x[0]-x[1] for x in filtered])\n",
        "gt = np.array([x[0] for x in filtered])\n",
        "est = np.array([x[1] for x in filtered])\n",
        "\n",
        "plt.figure()\n",
        "plt.scatter(gt,err)"
      ],
      "execution_count": null,
      "outputs": []
    },
    {
      "cell_type": "code",
      "metadata": {
        "id": "KBbn6-uo3k6B"
      },
      "source": [
        "print(len(gt[err<-50]))"
      ],
      "execution_count": null,
      "outputs": []
    },
    {
      "cell_type": "code",
      "metadata": {
        "id": "60kyTZSnvfOk"
      },
      "source": [
        "plt.figure()\n",
        "plt.scatter(gt[err < -50],est[err < -50])"
      ],
      "execution_count": null,
      "outputs": []
    },
    {
      "cell_type": "markdown",
      "metadata": {
        "id": "NHVa2ryhZ4s3"
      },
      "source": [
        "## Prediction Metrics With Time Component"
      ]
    },
    {
      "cell_type": "code",
      "metadata": {
        "id": "rxG3BkzlZ4s4"
      },
      "source": [
        "def prediction():\n",
        "    predicted_hz = []\n",
        "    true_hz = []\n",
        "    for inp, outp in dataset_test:\n",
        "        predicted = model.predict(inp)\n",
        "        true_hz.append(outp)\n",
        "        predicted = np.squeeze(predicted)\n",
        "        predicted_hz.append(predicted)\n",
        "    true_hz = np.reshape(np.array(true_hz), (1, (len(true_hz) * len(true_hz[0])*len(true_hz[0][0]))))\n",
        "    true_hz = np.squeeze(true_hz)\n",
        "    predicted_hz = np.reshape(np.array(predicted_hz), (1, (len(predicted_hz) * len(predicted_hz[0])*len(predicted_hz[0][0]))))\n",
        "    predicted_hz = np.squeeze(predicted_hz)\n",
        "    diff = true_hz - predicted_hz\n",
        "    return predicted_hz, true_hz, diff"
      ],
      "execution_count": null,
      "outputs": []
    },
    {
      "cell_type": "code",
      "metadata": {
        "id": "UHt8u-ZYZ4s4"
      },
      "source": [
        "predicted_hz, true_hz, diff = prediction()"
      ],
      "execution_count": null,
      "outputs": []
    },
    {
      "cell_type": "code",
      "metadata": {
        "id": "2SbHSuEOZ4s5"
      },
      "source": [
        "combined = zip(true_hz, predicted_hz)\n",
        "filtered = [x for x in list(combined) if x[0] > 0]\n",
        "filtered_unzipped = np.array(list(zip(*filtered)))\n",
        "diff_filtered = filtered_unzipped[0] - filtered_unzipped[1]"
      ],
      "execution_count": null,
      "outputs": []
    },
    {
      "cell_type": "code",
      "metadata": {
        "id": "ja4VLU2EZ4s5"
      },
      "source": [
        "true_cent = mir_eval.melody.hz2cents(filtered_unzipped[0])\n",
        "predicted_cent = mir_eval.melody.hz2cents(filtered_unzipped[1])\n",
        "std_dev_hz = np.std(diff_filtered)\n",
        "mae_hz = mean_absolute_error_hz(true_hz=filtered_unzipped[0], predicted_hz=filtered_unzipped[1])\n",
        "mean_hz = np.mean(diff_filtered)\n",
        "median_hz = np.median(diff_filtered)\n",
        "rpa_cent = raw_pitch_accuracy_cent(true_cent, predicted_cent)\n",
        "quantile_05 = np.quantile(diff_filtered, 0.05)\n",
        "quantile_95 = np.quantile(diff_filtered, 0.95)\n",
        "min = np.min(diff_filtered)\n",
        "max = np.max(diff_filtered)\n",
        "\n",
        "histo_true = histogram([x[0] - x[1] for x in filtered])"
      ],
      "execution_count": null,
      "outputs": []
    },
    {
      "cell_type": "code",
      "metadata": {
        "id": "o-Ux_qIwZ4s5"
      },
      "source": [
        "print(\"Stdabweichung:\", \"%.2f\" % std_dev_hz )\n",
        "print(\"Avg in Hz:\", \"%.2f\" % mean_hz)\n",
        "print(\"MAE in Hz:\", \"%.2f\" % mae_hz)\n",
        "print(\"5% Quantil:\", \"%.2f\" % quantile_05)\n",
        "print(\"95% Quantil:\", \"%.2f\" % quantile_95)\n",
        "print(\"Median in Hz:\", \"%.2f\" %median_hz)\n",
        "print(\"Max in Hz:\",\"%.2f\" % max)\n",
        "print(\"Min in Hz:\", \"%.2f\" % min)\n",
        "print(\"RPA in Cent:\", \"%.2f\" % rpa_cent)"
      ],
      "execution_count": null,
      "outputs": []
    },
    {
      "cell_type": "markdown",
      "metadata": {
        "id": "uJOmt3Xb6GXu"
      },
      "source": [
        "# Plots"
      ]
    },
    {
      "cell_type": "code",
      "metadata": {
        "id": "7ay1l6VuCUgW"
      },
      "source": [
        "i = 5\n",
        "z = predicted[i]\n",
        "y = outp[i]\n",
        "plt.figure()\n",
        "plt.plot(z)\n",
        "plt.plot(y)\n",
        "plt.plot(np.argmax(z),np.max(z),'x')\n",
        "plt.plot(np.argmax(y),np.max(y),'x')\n",
        "plt.ylim([0, 1.1])\n",
        "plt.text(np.argmax(z)+10,np.max(z),f'max={np.max(z):.1f} @ bin {np.argmax(z)}')\n",
        "plt.text(np.argmax(y)+10,np.max(y),f'max={np.max(y):.1f} @ bin {np.argmax(y)}')\n"
      ],
      "execution_count": null,
      "outputs": []
    },
    {
      "cell_type": "code",
      "metadata": {
        "id": "HyoW1qrOBAUC"
      },
      "source": [
        "z = outp[1]\n",
        "plt.figure()\n",
        "plt.plot(z)\n",
        "plt.plot(np.argmax(z),np.max(z),'x')\n",
        "plt.text(np.argmax(z)+10,np.max(z),f'max={np.max(z):.1f} @ bin {np.argmax(z)}')"
      ],
      "execution_count": null,
      "outputs": []
    }
  ]
}