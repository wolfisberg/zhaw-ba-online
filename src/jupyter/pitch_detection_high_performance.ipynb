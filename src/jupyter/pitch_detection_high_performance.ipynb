{
  "nbformat": 4,
  "nbformat_minor": 0,
  "metadata": {
    "colab": {
      "name": "pitch_detection_high_performance.ipynb",
      "provenance": [],
      "collapsed_sections": [],
      "authorship_tag": "ABX9TyOVZIDiiUAFVKznVjL4E3Jy",
      "include_colab_link": true
    },
    "kernelspec": {
      "name": "python3",
      "display_name": "Python 3"
    }
  },
  "cells": [
    {
      "cell_type": "markdown",
      "metadata": {
        "id": "view-in-github",
        "colab_type": "text"
      },
      "source": [
        "<a href=\"https://colab.research.google.com/github/wolfisberg/zhaw-ba-online/blob/main/src/jupyter/pitch_detection_high_performance.ipynb\" target=\"_parent\"><img src=\"https://colab.research.google.com/assets/colab-badge.svg\" alt=\"Open In Colab\"/></a>"
      ]
    },
    {
      "cell_type": "markdown",
      "metadata": {
        "id": "qFlXu-5mwnGQ"
      },
      "source": [
        "# BA dilanluc / wolfikas"
      ]
    },
    {
      "cell_type": "code",
      "metadata": {
        "id": "xHDzx0bCww8g",
        "colab": {
          "base_uri": "https://localhost:8080/"
        },
        "outputId": "58e6ad12-2b0d-4da8-ea1a-9bbd53dc6abb"
      },
      "source": [
        "print('Update code.')"
      ],
      "execution_count": 1,
      "outputs": [
        {
          "output_type": "stream",
          "text": [
            "Update code.\n"
          ],
          "name": "stdout"
        }
      ]
    }
  ]
}