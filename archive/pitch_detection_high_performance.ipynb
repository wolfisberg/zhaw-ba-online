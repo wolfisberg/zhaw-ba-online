{
  "nbformat": 4,
  "nbformat_minor": 0,
  "metadata": {
    "colab": {
      "name": "pitch_detection_high_performance.ipynb",
      "provenance": [],
      "collapsed_sections": [],
      "include_colab_link": true
    },
    "kernelspec": {
      "name": "python3",
      "display_name": "Python 3"
    }
  },
  "cells": [
    {
      "cell_type": "markdown",
      "metadata": {
        "id": "view-in-github",
        "colab_type": "text"
      },
      "source": [
        "<a href=\"https://colab.research.google.com/github/wolfisberg/zhaw-ba-online/blob/main/pitch_detection_high_performance.ipynb\" target=\"_parent\"><img src=\"https://colab.research.google.com/assets/colab-badge.svg\" alt=\"Open In Colab\"/></a>"
      ]
    },
    {
      "cell_type": "markdown",
      "metadata": {
        "id": "qFlXu-5mwnGQ"
      },
      "source": [
        "# BA dilanluc / wolfikas"
      ]
    },
    {
      "cell_type": "code",
      "metadata": {
        "id": "wiGgJI2GX9su",
        "colab": {
          "base_uri": "https://localhost:8080/"
        },
        "outputId": "2a208687-1e7e-4211-c985-f7a2ca2fc7b6"
      },
      "source": [
        "from google.colab import drive\n",
        "drive.mount('/content/drive')"
      ],
      "execution_count": 1,
      "outputs": [
        {
          "output_type": "stream",
          "text": [
            "Drive already mounted at /content/drive; to attempt to forcibly remount, call drive.mount(\"/content/drive\", force_remount=True).\n"
          ],
          "name": "stdout"
        }
      ]
    },
    {
      "cell_type": "code",
      "metadata": {
        "id": "2e75hRMmbMmJ"
      },
      "source": [
        "import numpy as np\r\n",
        "import scipy.io.wavfile\r\n",
        "import tensorflow as tf\r\n",
        "import os\r\n"
      ],
      "execution_count": 2,
      "outputs": []
    },
    {
      "cell_type": "markdown",
      "metadata": {
        "id": "oEDhNiVeckcg"
      },
      "source": [
        "**Write TFRecord**"
      ]
    },
    {
      "cell_type": "code",
      "metadata": {
        "id": "xHDzx0bCww8g"
      },
      "source": [
        "input_path = os.listdir('/content/drive/MyDrive/BA_2021/testdata/F01_test')\r\n",
        "output_path = '/content/drive/MyDrive/BA_2021/testdata/train_test.tfrecord'\r\n",
        "\r\n",
        "\r\n",
        "record_writer = tf.io.TFRecordWriter(output_path)\r\n",
        "\r\n",
        "def _bytes_feature(value):                                                      \r\n",
        "  \"\"\"Returns a bytes_list from a string / byte.\"\"\"                              \r\n",
        "  if isinstance(value, type(tf.constant(0))):                                   \r\n",
        "    value = value.numpy() # BytesList won't unpack a string from an EagerTensor.\r\n",
        "  return tf.train.Feature(bytes_list=tf.train.BytesList(value=[value]))\r\n",
        "\r\n",
        "def _float_feature(list_of_floats):  # float32\r\n",
        "    return tf.train.Feature(float_list=tf.train.FloatList(value=list_of_floats))\r\n",
        "\r\n",
        "\r\n",
        "def _int64_feature(value):\r\n",
        "    return tf.train.Feature(int64_list=tf.train.Int64List(value=[value]))\r\n",
        "\r\n",
        "for directory in input_path:\r\n",
        "    #for filename in os.listdir('/content/drive/MyDrive/data/SPEECH DATA/FEMALE/MIC/' + directory):\r\n",
        "      file_path = '/content/drive/MyDrive/BA_2021/testdata/F01_test/' + directory\r\n",
        "      raw_audio = tf.io.read_file(file_path)\r\n",
        "      audio, sample_rate = tf.audio.decode_wav(raw_audio, desired_channels=1, desired_samples=-1)\r\n",
        "\r\n",
        "      example = tf.train.Example(features=tf.train.Features(feature={\r\n",
        "                    'audio': _float_feature(audio.numpy().flatten().tolist()),\r\n",
        "                    'sample_rate': _int64_feature(sample_rate)}))\r\n",
        "\r\n",
        "      record_writer.write(example.SerializeToString())\r\n",
        " \r\n",
        "      \r\n",
        "      \r\n",
        "\r\n",
        "      #print(audio)\r\n",
        "      #print(audio.shape)\r\n",
        "      #print(sample_rate)\r\n",
        "\r\n",
        "      \r\n",
        "      \r\n"
      ],
      "execution_count": 3,
      "outputs": []
    },
    {
      "cell_type": "markdown",
      "metadata": {
        "id": "k4v-3Zfzcrlb"
      },
      "source": [
        "**Read TFRecord**"
      ]
    },
    {
      "cell_type": "code",
      "metadata": {
        "id": "8Mo1RLgASubo",
        "outputId": "45f2021f-5dfc-410c-b299-a1bb2a41f219",
        "colab": {
          "base_uri": "https://localhost:8080/"
        }
      },
      "source": [
        "filenames = [output_path]\r\n",
        "raw_dataset = tf.data.TFRecordDataset(filenames)\r\n",
        "raw_dataset\r\n",
        "\r\n"
      ],
      "execution_count": 4,
      "outputs": [
        {
          "output_type": "execute_result",
          "data": {
            "text/plain": [
              "<TFRecordDatasetV2 shapes: (), types: tf.string>"
            ]
          },
          "metadata": {
            "tags": []
          },
          "execution_count": 4
        }
      ]
    },
    {
      "cell_type": "code",
      "metadata": {
        "id": "l9Efx3GIYMjB",
        "colab": {
          "base_uri": "https://localhost:8080/"
        },
        "outputId": "f28ac4a1-49c2-45ee-e978-982ba94a6c4e"
      },
      "source": [
        "#example = tf.train.Example()\r\n",
        "#example.ParseFromString((raw_dataset.take(1).numpy())\r\n",
        "for raw_record in raw_dataset.take(1):\r\n",
        "  example = tf.train.Example()\r\n",
        "  example.ParseFromString(raw_record)\r\n",
        "  print(example)\r\n"
      ],
      "execution_count": 13,
      "outputs": [
        {
          "output_type": "stream",
          "text": [
            "\n"
          ],
          "name": "stdout"
        },
        {
          "output_type": "stream",
          "text": [
            "/usr/local/lib/python3.7/dist-packages/ipykernel_launcher.py:5: RuntimeWarning: Unexpected end-group tag: Not all data was converted\n",
            "  \"\"\"\n"
          ],
          "name": "stderr"
        }
      ]
    }
  ]
}