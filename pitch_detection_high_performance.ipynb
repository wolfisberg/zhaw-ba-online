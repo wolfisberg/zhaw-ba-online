{
  "nbformat": 4,
  "nbformat_minor": 0,
  "metadata": {
    "colab": {
      "name": "pitch_detection_high_performance.ipynb",
      "provenance": [],
      "collapsed_sections": [],
      "toc_visible": true,
      "include_colab_link": true
    },
    "kernelspec": {
      "name": "python3",
      "display_name": "Python 3"
    }
  },
  "cells": [
    {
      "cell_type": "markdown",
      "metadata": {
        "id": "view-in-github",
        "colab_type": "text"
      },
      "source": [
        "<a href=\"https://colab.research.google.com/github/wolfisberg/zhaw-ba-online/blob/main/pitch_detection_high_performance.ipynb\" target=\"_parent\"><img src=\"https://colab.research.google.com/assets/colab-badge.svg\" alt=\"Open In Colab\"/></a>"
      ]
    },
    {
      "cell_type": "markdown",
      "metadata": {
        "id": "qFlXu-5mwnGQ"
      },
      "source": [
        "# BA dilanluc / wolfikas"
      ]
    },
    {
      "cell_type": "code",
      "metadata": {
        "id": "2e75hRMmbMmJ"
      },
      "source": [
        "import numpy as np\r\n",
        "import scipy.io.wavfile\r\n",
        "import tensorflow as tf"
      ],
      "execution_count": 2,
      "outputs": []
    },
    {
      "cell_type": "code",
      "metadata": {
        "id": "xHDzx0bCww8g"
      },
      "source": [
        "output_path = '/content/drive/MyDrive/data/tfrecords/train.tfrecord'\r\n",
        "sample_path = '/content/drive/MyDrive/data/SPEECH DATA'\r\n",
        "input_path = '/content/drive/MyDrive/data/SPEECH DATA/FEMALE/LAR/F01'\r\n",
        "\r\n",
        "record_writer = tf.io.TFRecordWriter(output_path)\r\n",
        "\r\n",
        "import os\r\n",
        "for directory in os.listdir('/content/drive/MyDrive/data/SPEECH DATA/FEMALE/MIC'):\r\n",
        "    for filename in os.listdir('/content/drive/MyDrive/data/SPEECH DATA/FEMALE/MIC/' + directory):\r\n",
        "      file_path = '/content/drive/MyDrive/data/SPEECH DATA/FEMALE/MIC/' + directory + '/' + filename\r\n",
        "      raw_audio = tf.io.read_file(file_path)\r\n",
        "      audio, sample_rate = tf.audio.decode_wav(\r\n",
        "                    raw_audio,\r\n",
        "                    desired_channels=1)  # mono\r\n",
        "                    #desired_samples=self.sample_rate * self.duration)\r\n",
        "\r\n",
        "      # Put in range [-1, 1]\r\n",
        "      float_normalizer = float(np.iinfo(np.int16).max)\r\n",
        "      audio = audio / float_normalizer\r\n",
        "\r\n",
        "      # Convert to mono\r\n",
        "      audio = np.mean(audio, axis=-1)\r\n",
        "\r\n",
        "      #print(audio)\r\n",
        "      #print(audio.shape)\r\n",
        "      \r\n",
        "      example = tf.train.Example(features=tf.train.Features(feature={'sample_rate': tf.train.Feature(\r\n",
        "      int64_list=tf.train.Int64List(value=[sample_rate])),\r\n",
        "      'audio': tf.train.Feature(float_list=tf.train.FloatList(value=audio.tolist())),\r\n",
        "      }))\r\n",
        "      record_writer.write(example.SerializeToString())"
      ],
      "execution_count": 3,
      "outputs": []
    },
    {
      "cell_type": "code",
      "metadata": {
        "id": "l9Efx3GIYMjB",
        "outputId": "b4a33707-d8dd-451d-958c-22624a39780e",
        "colab": {
          "base_uri": "https://localhost:8080/"
        }
      },
      "source": [
        "filenames = [filenames]\r\n",
        "raw_dataset = tf.data.TFRecordDataset(filenames)\r\n",
        "raw_dataset\r\n",
        "\r\n",
        "for raw_record in raw_dataset.take(1):\r\n",
        "  example = tf.train.Example()\r\n",
        "  example.ParseFromString(raw_record.numpy())\r\n",
        "  print(example)"
      ],
      "execution_count": 6,
      "outputs": [
        {
          "output_type": "stream",
          "text": [
            "IOPub data rate exceeded.\n",
            "The notebook server will temporarily stop sending output\n",
            "to the client in order to avoid crashing it.\n",
            "To change this limit, set the config variable\n",
            "`--NotebookApp.iopub_data_rate_limit`.\n",
            "\n",
            "Current values:\n",
            "NotebookApp.iopub_data_rate_limit=1000000.0 (bytes/sec)\n",
            "NotebookApp.rate_limit_window=3.0 (secs)\n",
            "\n"
          ],
          "name": "stderr"
        }
      ]
    },
    {
      "cell_type": "code",
      "metadata": {
        "id": "wiGgJI2GX9su",
        "outputId": "e1b2dc78-f745-498a-fa9b-3a27b8d98d9f",
        "colab": {
          "base_uri": "https://localhost:8080/"
        }
      },
      "source": [
        "from google.colab import drive\n",
        "drive.mount('/content/drive')"
      ],
      "execution_count": 1,
      "outputs": [
        {
          "output_type": "stream",
          "text": [
            "Mounted at /content/drive\n"
          ],
          "name": "stdout"
        }
      ]
    }
  ]
}