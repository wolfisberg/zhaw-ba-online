{
  "nbformat": 4,
  "nbformat_minor": 0,
  "metadata": {
    "colab": {
      "name": "pitch_detection_high_performance.ipynb",
      "provenance": [],
      "collapsed_sections": [],
      "include_colab_link": true
    },
    "kernelspec": {
      "name": "python3",
      "display_name": "Python 3"
    }
  },
  "cells": [
    {
      "cell_type": "markdown",
      "metadata": {
        "id": "view-in-github",
        "colab_type": "text"
      },
      "source": [
        "<a href=\"https://colab.research.google.com/github/wolfisberg/zhaw-ba-online/blob/main/pitch_detection_high_performance.ipynb\" target=\"_parent\"><img src=\"https://colab.research.google.com/assets/colab-badge.svg\" alt=\"Open In Colab\"/></a>"
      ]
    },
    {
      "cell_type": "markdown",
      "metadata": {
        "id": "qFlXu-5mwnGQ"
      },
      "source": [
        "# BA dilanluc / wolfikas"
      ]
    },
    {
      "cell_type": "code",
      "metadata": {
        "id": "2e75hRMmbMmJ"
      },
      "source": [
        "import numpy as np\r\n",
        "import scipy.io.wavfile\r\n",
        "import tensorflow as tf"
      ],
      "execution_count": null,
      "outputs": []
    },
    {
      "cell_type": "code",
      "metadata": {
        "id": "xHDzx0bCww8g",
        "colab": {
          "base_uri": "https://localhost:8080/"
        },
        "outputId": "58e6ad12-2b0d-4da8-ea1a-9bbd53dc6abb"
      },
      "source": [
        "output_path = '/content/drive/MyDrive/data/tfrecords/train.tfrecord'\r\n",
        "sample_path = '/content/drive/MyDrive/data/SPEECH DATA'\r\n",
        "input_path = '/content/drive/MyDrive/data/SPEECH DATA/FEMALE/LAR/F01'\r\n",
        "\r\n",
        "record_writer = tf.io.TFRecordWriter(output_path)\r\n",
        "\r\n",
        "import os\r\n",
        "for directory in os.listdir('/content/drive/MyDrive/data/SPEECH DATA/FEMALE/MIC'):\r\n",
        "    for filename in os.listdir('/content/drive/MyDrive/data/SPEECH DATA/FEMALE/MIC/' + directory):\r\n",
        "      file_path = '/content/drive/MyDrive/data/SPEECH DATA/FEMALE/MIC/' + directory + '/' + filename\r\n",
        "      raw_audio = tf.io.read_file(file_path)\r\n",
        "      audio, sample_rate = tf.audio.decode_wav(\r\n",
        "                    raw_audio,\r\n",
        "                    desired_channels=1)  # mono\r\n",
        "                    #desired_samples=self.sample_rate * self.duration)\r\n",
        "\r\n",
        "      # Put in range [-1, 1]\r\n",
        "      float_normalizer = float(np.iinfo(np.int16).max)\r\n",
        "      audio = audio / float_normalizer\r\n",
        "\r\n",
        "      # Convert to mono\r\n",
        "      audio = np.mean(audio, axis=-1)\r\n",
        "\r\n",
        "      print(audio)\r\n",
        "      print(audio.shape)\r\n",
        "      \r\n",
        "      example = tf.train.Example(features=tf.train.Features(feature={'sample_rate': tf.train.Feature(\r\n",
        "      int64_list=tf.train.Int64List(value=[sample_rate])),\r\n",
        "      'audio': tf.train.Feature(float_list=tf.train.FloatList(value=audio.tolist())),\r\n",
        "      }))\r\n",
        "      record_writer.write(example.SerializeToString())"
      ],
      "execution_count": null,
      "outputs": [
        {
          "output_type": "stream",
          "text": [
            "Update code.\n"
          ],
          "name": "stdout"
        }
      ]
    }
  ]
}