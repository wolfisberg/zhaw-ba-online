{
  "nbformat": 4,
  "nbformat_minor": 0,
  "metadata": {
    "colab": {
      "name": "High_Performance_Pitch_Detection.ipynb",
      "provenance": [],
      "collapsed_sections": [],
      "toc_visible": true,
      "machine_shape": "hm",
      "include_colab_link": true
    },
    "kernelspec": {
      "name": "python3",
      "display_name": "Python 3"
    },
    "accelerator": "GPU"
  },
  "cells": [
    {
      "cell_type": "markdown",
      "metadata": {
        "id": "view-in-github",
        "colab_type": "text"
      },
      "source": [
        "<a href=\"https://colab.research.google.com/github/wolfisberg/zhaw-ba-online/blob/main/High_Performance_Pitch_Detection.ipynb\" target=\"_parent\"><img src=\"https://colab.research.google.com/assets/colab-badge.svg\" alt=\"Open In Colab\"/></a>"
      ]
    },
    {
      "cell_type": "code",
      "metadata": {
        "id": "8R2rTIWJM8I7"
      },
      "source": [
        "import datetime\r\n",
        "import os\r\n",
        "\r\n",
        "import numpy as np\r\n",
        "import tensorflow as tf\r\n",
        "import scipy.interpolate\r\n",
        "import matplotlib.pyplot as plt\r\n",
        "%load_ext tensorboard\r\n"
      ],
      "execution_count": 1,
      "outputs": []
    },
    {
      "cell_type": "code",
      "metadata": {
        "id": "CWZIc9-WSItM"
      },
      "source": [
        "config = {}\r\n",
        "config['batch_size'] = 64\r\n",
        "config['SNR_range'] = (-5.0,20.0) #dB\r\n",
        "config['frame_length'] = 512\r\n",
        "config['frame_step'] = 256\r\n",
        "config['min_rand_gain'] = 0.05\r\n",
        "config['max_rand_gain'] = 1.1\r\n",
        "config['sample_length'] = 3 #shorter than shortest noise/speech sample\r\n",
        "config['fs'] = 16000\r\n",
        "config['num_frames'] = 1 + (config['fs']*config['sample_length'] - config['frame_length']) // config['frame_step']\r\n",
        "config['pitch_sampling_time'] = 0.01 # s\r\n",
        "config['pitch_confidence_threshold'] = 0.15\r\n",
        "config['pitch_frame_length'] = 0.032 # s\r\n",
        "seed = 2"
      ],
      "execution_count": 74,
      "outputs": []
    },
    {
      "cell_type": "code",
      "metadata": {
        "id": "LiWpJb-nMZmH"
      },
      "source": [
        "parsing_config_noise = {\r\n",
        "        'data': tf.io.VarLenFeature(tf.string),\r\n",
        "        'data_sampling_rate': tf.io.VarLenFeature(tf.int64),\r\n",
        "        'data_num_channels': tf.io.VarLenFeature(tf.int64),\r\n",
        "        'data_width': tf.io.VarLenFeature(tf.int64),\r\n",
        "        }\r\n",
        "\r\n",
        "def parse_noise_record(serialized_example):\r\n",
        "    parsed_features = tf.io.parse_single_example(\r\n",
        "        serialized_example, features=parsing_config_noise\r\n",
        "    )\r\n",
        "\r\n",
        "    decoded_features = {\r\n",
        "        \"data_num_channels\": tf.cast(parsed_features[\"data_num_channels\"].values[0], tf.int32),\r\n",
        "        \"data_sampling_rate\": tf.cast(parsed_features[\"data_sampling_rate\"].values[0], tf.int32),\r\n",
        "        \"data_width\": tf.cast(parsed_features[\"data_width\"].values[0], tf.int32),\r\n",
        "    }\r\n",
        "    data = tf.io.decode_raw(parsed_features['data'].values[0], tf.int16)\r\n",
        "    decoded_features.update({\"data\": data})\r\n",
        "    return decoded_features\r\n",
        "\r\n",
        "parsing_config_speech = {\r\n",
        "        'data': tf.io.VarLenFeature(tf.string),\r\n",
        "        'data_sampling_rate': tf.io.VarLenFeature(tf.int64),\r\n",
        "        'data_num_channels': tf.io.VarLenFeature(tf.int64),\r\n",
        "        'data_width': tf.io.VarLenFeature(tf.int64),\r\n",
        "        'pitch': tf.io.VarLenFeature(tf.float32),\r\n",
        "        'pitch_confidence': tf.io.VarLenFeature(tf.float32),\r\n",
        "        }\r\n",
        "\r\n",
        "def parse_speech_record(serialized_example):\r\n",
        "    parsed_features = tf.io.parse_single_example(\r\n",
        "        serialized_example, features=parsing_config_speech\r\n",
        "    )\r\n",
        "\r\n",
        "    decoded_features = {\r\n",
        "        \"data_num_channels\": tf.cast(parsed_features[\"data_num_channels\"].values[0], tf.int32),\r\n",
        "        \"data_sampling_rate\": tf.cast(parsed_features[\"data_sampling_rate\"].values[0], tf.int32),\r\n",
        "        \"data_width\": tf.cast(parsed_features[\"data_width\"].values[0], tf.int32),\r\n",
        "        \"pitch\": tf.cast(parsed_features['pitch'].values, tf.float32),\r\n",
        "        \"pitch_confidence\": tf.cast(parsed_features['pitch_confidence'].values, tf.float32),\r\n",
        "    }\r\n",
        "    data = tf.io.decode_raw(parsed_features['data'].values[0], tf.int16)\r\n",
        "    decoded_features.update({\"data\": data})\r\n",
        "    return decoded_features"
      ],
      "execution_count": 75,
      "outputs": []
    },
    {
      "cell_type": "code",
      "metadata": {
        "id": "ioyOSZ-dSzX5"
      },
      "source": [
        "def mix_noisy_speech(speech, noise):   \r\n",
        "    speech_pow = tf.math.reduce_euclidean_norm(speech)\r\n",
        "    noise_pow = tf.math.reduce_euclidean_norm(noise)\r\n",
        "\r\n",
        "    min_SNR = config['SNR_range'][0]\r\n",
        "    max_SNR = config['SNR_range'][1]\r\n",
        "    snr_current = 20.0*tf.math.log(speech_pow/noise_pow)/tf.math.log(10.0)\r\n",
        "    snr_target = tf.random.uniform((),minval=min_SNR,maxval=max_SNR)\r\n",
        "\r\n",
        "    noise = noise * tf.math.pow(10.0,(snr_current-snr_target)/20.0)\r\n",
        "    noisy_speech = speech+noise\r\n",
        "\r\n",
        "    return speech, noise, noisy_speech"
      ],
      "execution_count": 76,
      "outputs": []
    },
    {
      "cell_type": "code",
      "metadata": {
        "id": "OAmRVXpsXsey"
      },
      "source": [
        "def interpolate_pitch(pitch,t):\r\n",
        "    pitch = pitch.numpy()\r\n",
        "    t = t.numpy()\r\n",
        "    t_pitch = np.arange(0, len(pitch))*config['pitch_sampling_time']+config['pitch_frame_length']/2\r\n",
        "    f = scipy.interpolate.interp1d(t_pitch, pitch, 'nearest')\r\n",
        "    return f(t).astype(np.float32)\r\n",
        "\r\n",
        "@tf.function\r\n",
        "def interpolate_pitch_tf(pitch,t):\r\n",
        "    y = tf.py_function(interpolate_pitch,[pitch,t], Tout=tf.float32)\r\n",
        "    return tf.squeeze(y)\r\n"
      ],
      "execution_count": 77,
      "outputs": []
    },
    {
      "cell_type": "code",
      "metadata": {
        "id": "nd2WJFq4SX9Z"
      },
      "source": [
        "def calc_features(speech_data, noise_data):\r\n",
        "    speech = tf.squeeze(tf.cast(speech_data[\"data\"],tf.float32))\r\n",
        "    noise = tf.squeeze(tf.cast(noise_data[\"data\"],tf.float32))\r\n",
        "    speech = speech/tf.int16.max\r\n",
        "    noise = noise/tf.int16.max\r\n",
        "\r\n",
        "    random_start_idx = int(tf.round(tf.random.uniform([],maxval=(tf.cast(len(noise),tf.float32)-config['sample_length']*config['fs']-config['pitch_sampling_time']))))\r\n",
        "    noise = noise[random_start_idx:random_start_idx+config['sample_length']*config['fs']]\r\n",
        "\r\n",
        "    random_start_idx = int(tf.round(tf.random.uniform([],minval=161,maxval=(tf.cast(len(speech),tf.float32)-config['sample_length']*config['fs']-161))))\r\n",
        "    speech = speech[random_start_idx:random_start_idx+config['sample_length']*config['fs']]\r\n",
        "\r\n",
        "    SNR_range = config['SNR_range']\r\n",
        "    frame_length = config['frame_length']\r\n",
        "    frame_step = config['frame_step']\r\n",
        "    speech, noise, noisy = mix_noisy_speech(speech, noise)\r\n",
        "    \r\n",
        "    random_gain = tf.math.exp(tf.random.uniform([],minval=tf.math.log(config['min_rand_gain']),maxval=tf.math.log(config['max_rand_gain'])))\r\n",
        "    noisy = random_gain*noisy\r\n",
        "    \r\n",
        "    noisy_frames = tf.signal.frame(noisy,frame_length,frame_step)\r\n",
        "    #noisy_stft = tf.signal.stft(noisy,frame_length,frame_step)\r\n",
        "    frame_times = random_start_idx/config['fs']+tf.range(0,config['num_frames'])*frame_step/config['fs']+frame_length/config['fs']\r\n",
        "    \r\n",
        "    pitch = tf.squeeze(speech_data[\"pitch\"])\r\n",
        "    pitch_confidence = tf.squeeze(speech_data[\"pitch_confidence\"])\r\n",
        "    #pitch = tf.where(pitch_confidence>config['pitch_confidence_threshold'],pitch,0)\r\n",
        "    pitch_interpolated = interpolate_pitch_tf(pitch,frame_times)\r\n",
        "    return noisy_frames, pitch_interpolated\r\n",
        "\r\n"
      ],
      "execution_count": 78,
      "outputs": []
    },
    {
      "cell_type": "markdown",
      "metadata": {
        "id": "USi8TGtFZ9nH"
      },
      "source": [
        "# Dataset"
      ]
    },
    {
      "cell_type": "code",
      "metadata": {
        "id": "ZgHcOd2mNDRk"
      },
      "source": [
        "data_folder = '/content/gdrive/MyDrive/BA_2021/tfrecords'\r\n",
        "speech_data_folder = os.path.join(data_folder,'speech', 'tr')\r\n",
        "noise_data_folder = os.path.join(data_folder,'noise', 'tr')"
      ],
      "execution_count": 79,
      "outputs": []
    },
    {
      "cell_type": "code",
      "metadata": {
        "id": "NYk7tOiUNBP8"
      },
      "source": [
        "speech_ds = tf.data.TFRecordDataset([os.path.join(speech_data_folder,file) for file in os.listdir(speech_data_folder)])\r\n",
        "speech_ds = speech_ds.map(parse_speech_record).repeat(None).shuffle(buffer_size=1000, seed=seed)\r\n",
        "\r\n",
        "noise_ds = tf.data.TFRecordDataset([os.path.join(noise_data_folder,file) for file in os.listdir(noise_data_folder)])\r\n",
        "noise_ds = noise_ds.map(parse_noise_record).repeat(None).shuffle(buffer_size=1000, seed=seed)\r\n",
        "print('ToDo: Replace speech parser with noise parser')\r\n",
        "\r\n",
        "dataset_combined = tf.data.Dataset.zip((speech_ds, noise_ds))\r\n",
        "dataset_features = dataset_combined.map(calc_features, num_parallel_calls=tf.data.experimental.AUTOTUNE)\r\n",
        "dataset_features = dataset_features.batch(config['batch_size'], drop_remainder=True).prefetch(tf.data.experimental.AUTOTUNE)\r\n",
        "\r\n",
        "dataset_training = dataset_features\r\n",
        "#dataset_validation = dataset_features\r\n",
        "#dataset_test = dataset_features\r\n",
        "print('ToDo: add validation and test datasets!')"
      ],
      "execution_count": null,
      "outputs": []
    },
    {
      "cell_type": "markdown",
      "metadata": {
        "id": "NheECAK6aBCB"
      },
      "source": [
        "## Model"
      ]
    },
    {
      "cell_type": "code",
      "metadata": {
        "id": "vHZ4eMqMnchd"
      },
      "source": [
        "%tensorboard --logdir logs"
      ],
      "execution_count": null,
      "outputs": []
    },
    {
      "cell_type": "code",
      "metadata": {
        "id": "wp2zd6v8VsS2"
      },
      "source": [
        "model = tf.keras.models.Sequential()\r\n",
        "model.add(tf.keras.layers.LSTM(256,return_sequences=True, input_shape=(config['num_frames'], config['frame_length'])))\r\n",
        "model.add(tf.keras.layers.LSTM(128,return_sequences=True))\r\n",
        "model.add(tf.keras.layers.Dense(128,activation='relu'))\r\n",
        "model.add(tf.keras.layers.Dense(1,activation='relu'))\r\n",
        "model.compile(loss='mean_squared_error', optimizer='adam')\r\n",
        "model.summary()"
      ],
      "execution_count": null,
      "outputs": []
    },
    {
      "cell_type": "code",
      "metadata": {
        "id": "k-sDAouJnL5r"
      },
      "source": [
        "tf.keras.utils.plot_model(model)"
      ],
      "execution_count": null,
      "outputs": []
    },
    {
      "cell_type": "markdown",
      "metadata": {
        "id": "KV-SpsYhaCNV"
      },
      "source": [
        "# Train Model"
      ]
    },
    {
      "cell_type": "code",
      "metadata": {
        "id": "j7oNvhYTaEnc"
      },
      "source": [
        "print('ToDo: change paths to google drive --> checkpoints (weights of NNs afer each epoch) etc will be permanently saved there')\r\n",
        "date_time_string = datetime.datetime.now().strftime(\"%Y%m%d-%H%M%S\")\r\n",
        "logdir = os.path.join(\"/content/gdrive/MyDrive/BA_2021/data_incomplete/logs\", date_time_string)\r\n",
        "tensorboard_callback = tf.keras.callbacks.TensorBoard(logdir, histogram_freq=1)\r\n",
        "\r\n",
        "folder = os.path.join('/content/gdrive/MyDrive/BA_2021/data_incomplete/checkpoints', date_time_string)\r\n",
        "if not os.path.exists(folder):\r\n",
        "    os.makedirs(folder)\r\n",
        "checkpoint = tf.keras.callbacks.ModelCheckpoint(filepath=os.path.join(folder,'{epoch:02d}-{val_loss:.2f}.hdf5'))\r\n",
        "\r\n",
        "callbacks = [checkpoint, tensorboard_callback]"
      ],
      "execution_count": null,
      "outputs": []
    },
    {
      "cell_type": "code",
      "metadata": {
        "id": "uF8FQ84UcFlP"
      },
      "source": [
        "history = model.fit(dataset_training, steps_per_epoch=720, epochs=1600, verbose = 1 ,validation_data = dataset_validation, validation_steps=70, callbacks = callbacks)"
      ],
      "execution_count": null,
      "outputs": []
    },
    {
      "cell_type": "code",
      "metadata": {
        "id": "376ah-OFortI"
      },
      "source": [
        ""
      ],
      "execution_count": null,
      "outputs": []
    }
  ]
}