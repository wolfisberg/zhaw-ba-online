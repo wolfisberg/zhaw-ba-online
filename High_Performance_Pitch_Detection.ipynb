{
  "nbformat": 4,
  "nbformat_minor": 0,
  "metadata": {
    "colab": {
      "name": "High_Performance_Pitch_Detection.ipynb",
      "provenance": [],
      "collapsed_sections": [],
      "toc_visible": true,
      "machine_shape": "hm",
      "include_colab_link": true
    },
    "kernelspec": {
      "name": "python3",
      "display_name": "Python 3"
    },
    "accelerator": "GPU"
  },
  "cells": [
    {
      "cell_type": "markdown",
      "metadata": {
        "id": "view-in-github",
        "colab_type": "text"
      },
      "source": [
        "<a href=\"https://colab.research.google.com/github/wolfisberg/zhaw-ba-online/blob/main/High_Performance_Pitch_Detection.ipynb\" target=\"_parent\"><img src=\"https://colab.research.google.com/assets/colab-badge.svg\" alt=\"Open In Colab\"/></a>"
      ]
    },
    {
      "cell_type": "markdown",
      "metadata": {
        "id": "zGXchrRLonBv"
      },
      "source": [
        "# Data Preparation"
      ]
    },
    {
      "cell_type": "code",
      "metadata": {
        "id": "0Q42BY8BPSoL",
        "colab": {
          "base_uri": "https://localhost:8080/"
        },
        "outputId": "5f9dadbd-5449-4d10-98c6-fd7158eb436a"
      },
      "source": [
        "from google.colab import drive\n",
        "drive.mount('/content/drive')\n"
      ],
      "execution_count": 1,
      "outputs": [
        {
          "output_type": "stream",
          "text": [
            "Mounted at /content/drive\n"
          ],
          "name": "stdout"
        }
      ]
    },
    {
      "cell_type": "code",
      "metadata": {
        "id": "X0ldAm5zRxzn"
      },
      "source": [
        "data_folder = '/content/drive/MyDrive/BA_2021/tfrecords'"
      ],
      "execution_count": 2,
      "outputs": []
    },
    {
      "cell_type": "code",
      "metadata": {
        "id": "LIFRo1TElCtP"
      },
      "source": [
        "import shutil\n",
        "import os\n",
        "\n",
        "data_folder_local = '/content'\n",
        "if not os.path.exists(data_folder_local):\n",
        "    os.mkdir(data_folder_local)\n",
        "shutil.copytree(data_folder, os.path.join(data_folder_local, 'data', 'tfrecords'))\n",
        "data_folder = os.path.join(data_folder_local, 'data', 'tfrecords')"
      ],
      "execution_count": 3,
      "outputs": []
    },
    {
      "cell_type": "code",
      "metadata": {
        "id": "8R2rTIWJM8I7"
      },
      "source": [
        "import datetime\n",
        "import os\n",
        "\n",
        "import numpy as np\n",
        "import tensorflow as tf\n",
        "import scipy.interpolate\n",
        "import matplotlib.pyplot as plt\n",
        "%load_ext tensorboard\n"
      ],
      "execution_count": 4,
      "outputs": []
    },
    {
      "cell_type": "code",
      "metadata": {
        "id": "CWZIc9-WSItM"
      },
      "source": [
        "config = {}\n",
        "config['batch_size'] = 64\n",
        "config['SNR_range'] = (-5.0,20.0) #dB\n",
        "config['frame_length'] = 512\n",
        "config['frame_step'] = 256\n",
        "config['min_rand_gain'] = 0.05\n",
        "config['max_rand_gain'] = 1.1\n",
        "config['sample_length'] = 3 #shorter than shortest noise/speech sample\n",
        "config['fs'] = 16000\n",
        "config['num_frames'] = 1 + (config['fs']*config['sample_length'] - config['frame_length']) // config['frame_step']\n",
        "config['pitch_sampling_time'] = 0.01 # s\n",
        "config['pitch_confidence_threshold'] = 0.15\n",
        "config['pitch_frame_length'] = 0.032 # s\n",
        "seed = 2"
      ],
      "execution_count": 5,
      "outputs": []
    },
    {
      "cell_type": "code",
      "metadata": {
        "id": "LiWpJb-nMZmH"
      },
      "source": [
        "parsing_config_noise = {\n",
        "        'data': tf.io.VarLenFeature(tf.string),\n",
        "        'data_sampling_rate': tf.io.VarLenFeature(tf.int64),\n",
        "        'data_num_channels': tf.io.VarLenFeature(tf.int64),\n",
        "        'data_width': tf.io.VarLenFeature(tf.int64),\n",
        "        }\n",
        "\n",
        "def parse_noise_record(serialized_example):\n",
        "    parsed_features = tf.io.parse_single_example(\n",
        "        serialized_example, features=parsing_config_noise\n",
        "    )\n",
        "\n",
        "    decoded_features = {\n",
        "        \"data_num_channels\": tf.cast(parsed_features[\"data_num_channels\"].values[0], tf.int32),\n",
        "        \"data_sampling_rate\": tf.cast(parsed_features[\"data_sampling_rate\"].values[0], tf.int32),\n",
        "        \"data_width\": tf.cast(parsed_features[\"data_width\"].values[0], tf.int32),\n",
        "    }\n",
        "    data = tf.io.decode_raw(parsed_features['data'].values[0], tf.int16)\n",
        "    decoded_features.update({\"data\": data})\n",
        "    return decoded_features\n",
        "\n",
        "parsing_config_speech = {\n",
        "        'data': tf.io.VarLenFeature(tf.string),\n",
        "        'data_sampling_rate': tf.io.VarLenFeature(tf.int64),\n",
        "        'data_num_channels': tf.io.VarLenFeature(tf.int64),\n",
        "        'data_width': tf.io.VarLenFeature(tf.int64),\n",
        "        'pitch': tf.io.VarLenFeature(tf.float32),\n",
        "        'pitch_confidence': tf.io.VarLenFeature(tf.float32),\n",
        "        }\n",
        "\n",
        "def parse_speech_record(serialized_example):\n",
        "    parsed_features = tf.io.parse_single_example(\n",
        "        serialized_example, features=parsing_config_speech\n",
        "    )\n",
        "\n",
        "    decoded_features = {\n",
        "        \"data_num_channels\": tf.cast(parsed_features[\"data_num_channels\"].values[0], tf.int32),\n",
        "        \"data_sampling_rate\": tf.cast(parsed_features[\"data_sampling_rate\"].values[0], tf.int32),\n",
        "        \"data_width\": tf.cast(parsed_features[\"data_width\"].values[0], tf.int32),\n",
        "        \"pitch\": tf.cast(parsed_features['pitch'].values, tf.float32),\n",
        "        \"pitch_confidence\": tf.cast(parsed_features['pitch_confidence'].values, tf.float32),\n",
        "    }\n",
        "    data = tf.io.decode_raw(parsed_features['data'].values[0], tf.int16)\n",
        "    decoded_features.update({\"data\": data})\n",
        "    return decoded_features"
      ],
      "execution_count": 6,
      "outputs": []
    },
    {
      "cell_type": "code",
      "metadata": {
        "id": "ioyOSZ-dSzX5"
      },
      "source": [
        "def mix_noisy_speech(speech, noise):   \n",
        "    speech_pow = tf.math.reduce_euclidean_norm(speech)\n",
        "    noise_pow = tf.math.reduce_euclidean_norm(noise)\n",
        "\n",
        "    min_SNR = config['SNR_range'][0]\n",
        "    max_SNR = config['SNR_range'][1]\n",
        "    snr_current = 20.0*tf.math.log(speech_pow/noise_pow)/tf.math.log(10.0)\n",
        "    snr_target = tf.random.uniform((),minval=min_SNR,maxval=max_SNR)\n",
        "\n",
        "    noise = noise * tf.math.pow(10.0,(snr_current-snr_target)/20.0)\n",
        "    noisy_speech = speech+noise\n",
        "\n",
        "    return speech, noise, noisy_speech"
      ],
      "execution_count": 7,
      "outputs": []
    },
    {
      "cell_type": "code",
      "metadata": {
        "id": "OAmRVXpsXsey"
      },
      "source": [
        "def interpolate_pitch(pitch,t):\n",
        "    pitch = pitch.numpy()\n",
        "    t = t.numpy()\n",
        "    t_pitch = np.arange(0, len(pitch))*config['pitch_sampling_time']+config['pitch_frame_length']/2\n",
        "    f = scipy.interpolate.interp1d(t_pitch, pitch, 'nearest')\n",
        "    return f(t).astype(np.float32)\n",
        "\n",
        "@tf.function\n",
        "def interpolate_pitch_tf(pitch,t):\n",
        "    y = tf.py_function(interpolate_pitch,[pitch,t], Tout=tf.float32)\n",
        "    return tf.squeeze(y)\n"
      ],
      "execution_count": 8,
      "outputs": []
    },
    {
      "cell_type": "code",
      "metadata": {
        "id": "nd2WJFq4SX9Z"
      },
      "source": [
        "def calc_features(speech_data, noise_data):\n",
        "    speech = tf.squeeze(tf.cast(speech_data[\"data\"],tf.float32))\n",
        "    noise = tf.squeeze(tf.cast(noise_data[\"data\"],tf.float32))\n",
        "    speech = speech/tf.int16.max\n",
        "    noise = noise/tf.int16.max\n",
        "\n",
        "    random_start_idx = int(tf.round(tf.random.uniform([],maxval=(tf.cast(len(noise),tf.float32)-config['sample_length']*config['fs']-config['pitch_sampling_time']))))\n",
        "    noise = noise[random_start_idx:random_start_idx+config['sample_length']*config['fs']]\n",
        "\n",
        "    random_start_idx = int(tf.round(tf.random.uniform([],minval=161,maxval=(tf.cast(len(speech),tf.float32)-config['sample_length']*config['fs']-161))))\n",
        "    speech = speech[random_start_idx:random_start_idx+config['sample_length']*config['fs']]\n",
        "\n",
        "    SNR_range = config['SNR_range']\n",
        "    frame_length = config['frame_length']\n",
        "    frame_step = config['frame_step']\n",
        "    speech, noise, noisy = mix_noisy_speech(speech, noise)\n",
        "    \n",
        "    random_gain = tf.math.exp(tf.random.uniform([],minval=tf.math.log(config['min_rand_gain']),maxval=tf.math.log(config['max_rand_gain'])))\n",
        "    noisy = random_gain*noisy\n",
        "    \n",
        "    noisy_frames = tf.signal.frame(noisy,frame_length,frame_step)\n",
        "    #noisy_stft = tf.signal.stft(noisy,frame_length,frame_step)\n",
        "    frame_times = random_start_idx/config['fs']+tf.range(0,config['num_frames'])*frame_step/config['fs']+frame_length/config['fs']\n",
        "   \n",
        "    \n",
        "    pitch = tf.squeeze(speech_data[\"pitch\"])\n",
        "    pitch_confidence = tf.squeeze(speech_data[\"pitch_confidence\"])\n",
        "    #pitch = tf.where(pitch_confidence>config['pitch_confidence_threshold'],pitch,0)\n",
        "    pitch_interpolated = interpolate_pitch_tf(pitch,frame_times)\n",
        "    return noisy_frames, pitch_interpolated\n",
        "\n"
      ],
      "execution_count": 9,
      "outputs": []
    },
    {
      "cell_type": "markdown",
      "metadata": {
        "id": "USi8TGtFZ9nH"
      },
      "source": [
        "# Dataset"
      ]
    },
    {
      "cell_type": "code",
      "metadata": {
        "id": "KuFfW4DXW7F3"
      },
      "source": [
        "speech_data_folder = os.path.join(data_folder,'speech', 'tr')\n",
        "noise_data_folder = os.path.join(data_folder,'noise', 'tr')\n",
        "\n",
        "speech_ds = tf.data.TFRecordDataset([os.path.join(speech_data_folder,file) for file in os.listdir(speech_data_folder)])\n",
        "speech_ds = speech_ds.map(parse_speech_record).repeat(None).shuffle(buffer_size=1000, seed=seed)\n",
        "\n",
        "noise_ds = tf.data.TFRecordDataset([os.path.join(noise_data_folder,file) for file in os.listdir(noise_data_folder)])\n",
        "noise_ds = noise_ds.map(parse_noise_record).repeat(None).shuffle(buffer_size=1000, seed=seed)\n",
        "\n",
        "\n",
        "dataset_combined = tf.data.Dataset.zip((speech_ds, noise_ds))\n",
        "dataset_features = dataset_combined.map(calc_features, num_parallel_calls=tf.data.experimental.AUTOTUNE)\n",
        "dataset_features = dataset_features.batch(config['batch_size'], drop_remainder=True).prefetch(tf.data.experimental.AUTOTUNE)\n",
        "\n",
        "dataset_training = dataset_features\n"
      ],
      "execution_count": 10,
      "outputs": []
    },
    {
      "cell_type": "code",
      "metadata": {
        "id": "ZgHcOd2mNDRk"
      },
      "source": [
        "speech_data_folder = os.path.join(data_folder,'speech', 'tt')\n",
        "noise_data_folder = os.path.join(data_folder,'noise', 'tt')\n",
        "\n",
        "speech_ds = tf.data.TFRecordDataset([os.path.join(speech_data_folder,file) for file in os.listdir(speech_data_folder)])\n",
        "speech_ds = speech_ds.map(parse_speech_record).repeat(None).shuffle(buffer_size=1000, seed=seed)\n",
        "\n",
        "noise_ds = tf.data.TFRecordDataset([os.path.join(noise_data_folder,file) for file in os.listdir(noise_data_folder)])\n",
        "noise_ds = noise_ds.map(parse_noise_record).repeat(None).shuffle(buffer_size=1000, seed=seed)\n",
        "\n",
        "\n",
        "dataset_combined = tf.data.Dataset.zip((speech_ds, noise_ds))\n",
        "dataset_features = dataset_combined.map(calc_features, num_parallel_calls=tf.data.experimental.AUTOTUNE)\n",
        "dataset_features = dataset_features.batch(config['batch_size'], drop_remainder=True).prefetch(tf.data.experimental.AUTOTUNE)\n",
        "\n",
        "dataset_test = dataset_features"
      ],
      "execution_count": 11,
      "outputs": []
    },
    {
      "cell_type": "code",
      "metadata": {
        "id": "NYk7tOiUNBP8"
      },
      "source": [
        "speech_data_folder = os.path.join(data_folder,'speech', 'cv')\n",
        "noise_data_folder = os.path.join(data_folder,'noise', 'cv')\n",
        "\n",
        "speech_ds = tf.data.TFRecordDataset([os.path.join(speech_data_folder,file) for file in os.listdir(speech_data_folder)])\n",
        "speech_ds = speech_ds.map(parse_speech_record).repeat(None).shuffle(buffer_size=1000, seed=seed)\n",
        "\n",
        "noise_ds = tf.data.TFRecordDataset([os.path.join(noise_data_folder,file) for file in os.listdir(noise_data_folder)])\n",
        "noise_ds = noise_ds.map(parse_noise_record).repeat(None).shuffle(buffer_size=1000, seed=seed)\n",
        "\n",
        "\n",
        "dataset_combined = tf.data.Dataset.zip((speech_ds, noise_ds))\n",
        "dataset_features = dataset_combined.map(calc_features, num_parallel_calls=tf.data.experimental.AUTOTUNE)\n",
        "dataset_features = dataset_features.batch(config['batch_size'], drop_remainder=True).prefetch(tf.data.experimental.AUTOTUNE)\n",
        "\n",
        "dataset_validation = dataset_features\n"
      ],
      "execution_count": 12,
      "outputs": []
    },
    {
      "cell_type": "markdown",
      "metadata": {
        "id": "NheECAK6aBCB"
      },
      "source": [
        "# LSTM"
      ]
    },
    {
      "cell_type": "code",
      "metadata": {
        "id": "wp2zd6v8VsS2"
      },
      "source": [
        "model = tf.keras.models.Sequential()\n",
        "model.add(tf.keras.layers.LSTM(256,return_sequences=True, input_shape=(config['num_frames'], config['frame_length'])))\n",
        "model.add(tf.keras.layers.LSTM(256, return_sequences=True))\n",
        "#model.add(tf.keras.layers.Dropout(0.6))\n",
        "model.add(tf.keras.layers.Dense(128,activation='relu'))\n",
        "model.add(tf.keras.layers.Dense(1,activation='relu'))\n",
        "model.compile(loss='mse', optimizer='adam', metrics=['mse'])\n",
        "model.summary()"
      ],
      "execution_count": null,
      "outputs": []
    },
    {
      "cell_type": "code",
      "metadata": {
        "id": "0zg_NOBF3Ugr"
      },
      "source": [
        "tf.keras.utils.plot_model(model, show_shapes=True)"
      ],
      "execution_count": null,
      "outputs": []
    },
    {
      "cell_type": "code",
      "metadata": {
        "id": "8Rny1pow1c4c"
      },
      "source": [
        "class PitchAccuracyCallback(tf.keras.callbacks.Callback):\n",
        "    def __init__(self, val_sets):\n",
        "        super().__init__()\n",
        "        self.val_sets = [(audio, mir_eval.melody.hz2cents(pitch)) for audio, pitch in val_sets]\n",
        "        self.local_average = local_average\n",
        "        self.to_cents = mir_eval.melody.hz2cents\n",
        "        self.prefix = local_average and 'local-average-' or 'default-'\n",
        "\n",
        "    def on_epoch_end(self, epoch, logs=None):\n",
        "        names = list(validation_set_names)\n",
        "        print(file=sys.stderr)\n",
        "\n",
        "        MAEs = []\n",
        "        RPAs = []\n",
        "        RCAs = []\n",
        "\n",
        "        print(\"Epoch {}, validation accuracies (local_average = {})\".format(epoch + 1, self.local_average), file=sys.stderr)\n",
        "        for audio, true_cents in self.val_sets:\n",
        "            predicted = self.model.predict(audio)\n",
        "            predicted_cents = self.to_cents(predicted)\n",
        "            diff = np.abs(true_cents - predicted_cents)\n",
        "            mae = np.mean(diff[np.isfinite(diff)])\n",
        "            rpa, rca = accuracies(true_cents, predicted_cents)\n",
        "            nans = np.mean(np.isnan(diff))\n",
        "            print(\"{}: MAE = {}, RPA = {}, RCA = {}, nans = {}\".format(names.pop(0), mae, rpa, rca, nans), file=sys.stderr)\n",
        "            MAEs.append(mae)\n",
        "            RPAs.append(rpa)\n",
        "            RCAs.append(rca)\n",
        "\n",
        "        with open(log_path(self.prefix + \"mae.tsv\"), \"a\") as f:\n",
        "            f.write('\\t'.join(['%.6f' % mae for mae in MAEs]) + '\\n')\n",
        "        with open(log_path(self.prefix + \"rpa.tsv\"), \"a\") as f:\n",
        "            f.write('\\t'.join(['%.6f' % rpa for rpa in RPAs]) + '\\n')\n",
        "        with open(log_path(self.prefix + \"rca.tsv\"), \"a\") as f:\n",
        "            f.write('\\t'.join(['%.6f' % rca for rca in RCAs]) + '\\n')\n",
        "\n",
        "        print(file=sys.stderr)"
      ],
      "execution_count": null,
      "outputs": []
    },
    {
      "cell_type": "markdown",
      "metadata": {
        "id": "eyq0DRgesONA"
      },
      "source": [
        "# Luca's Try"
      ]
    },
    {
      "cell_type": "code",
      "metadata": {
        "id": "alDUwb3-FPey"
      },
      "source": [
        "from tensorflow.keras import layers\n",
        "from tensorflow import Tensor\n",
        "from tensorflow.keras.layers import Input, Conv1D, ReLU, BatchNormalization,\\\n",
        "                                    AveragePooling1D, Flatten, Dense, Reshape\n",
        "from tensorflow.keras.models import Model"
      ],
      "execution_count": null,
      "outputs": []
    },
    {
      "cell_type": "code",
      "metadata": {
        "id": "FraPnrxaBpL2"
      },
      "source": [
        "def resblock(x, filters, kernelsize, dilationrate):\n",
        "    fx = layers.Conv1D(filters, kernelsize,strides=1, dilation_rate=dilationrate, activation='relu', padding='same')(x)\n",
        "    fx = layers.BatchNormalization()(fx)\n",
        "    fx = layers.Conv1D(filters, kernelsize, padding='same')(fx)\n",
        "    out = layers.Add()([x,fx])\n",
        "    out = layers.ReLU()(out)\n",
        "    #out = layers.BatchNormalization()(out)\n",
        "    return out"
      ],
      "execution_count": null,
      "outputs": []
    },
    {
      "cell_type": "code",
      "metadata": {
        "id": "RJuYMDhkGbyN"
      },
      "source": [
        "def create_cnn():\n",
        "    inputs = Input(shape=(config['num_frames'], config['frame_length']))\n",
        "    #inputs = Input(shape=(1024, 512))\n",
        "    #inputs = Reshape(target_shape=(186, 512, 1))(inputs)\n",
        "    #t = BatchNormalization()(inputs)\n",
        "    t = Conv1D(filters=128, kernel_size=(64), padding='same')(inputs)\n",
        "    dilation_rate_list = [1, 2, 4, 8]\n",
        "    for i in range(len(dilation_rate_list)):\n",
        "        dilation_rate = dilation_rate_list[i]\n",
        "        t = resblock(t, 128, 64, dilation_rate)\n",
        "\n",
        "    t = AveragePooling1D(64)(t)\n",
        "    t = Flatten()(t)\n",
        "\n",
        "    outputs = Dense(1, activation='sigmoid', name=\"classifier\")(t)\n",
        "    model = Model(inputs, outputs)\n",
        "\n",
        "    model.compile(optimizer='adam', loss='binary_crossentropy')\n",
        "\n",
        "    return model\n",
        "\n",
        "    "
      ],
      "execution_count": null,
      "outputs": []
    },
    {
      "cell_type": "code",
      "metadata": {
        "id": "SajaqqHPFULB"
      },
      "source": [
        "model = create_cnn()\n",
        "model.summary()"
      ],
      "execution_count": null,
      "outputs": []
    },
    {
      "cell_type": "code",
      "metadata": {
        "id": "k-sDAouJnL5r"
      },
      "source": [
        "tf.keras.utils.plot_model(model, show_shapes=True)"
      ],
      "execution_count": null,
      "outputs": []
    },
    {
      "cell_type": "markdown",
      "metadata": {
        "id": "KV-SpsYhaCNV"
      },
      "source": [
        "# Train Model"
      ]
    },
    {
      "cell_type": "code",
      "metadata": {
        "id": "vHZ4eMqMnchd"
      },
      "source": [
        "%tensorboard --logdir /content/drive/MyDrive/BA_2021/logs"
      ],
      "execution_count": null,
      "outputs": []
    },
    {
      "cell_type": "code",
      "metadata": {
        "id": "j7oNvhYTaEnc"
      },
      "source": [
        "date_time_string = datetime.datetime.now().strftime(\"%Y%m%d-%H%M%S\")\n",
        "logdir = os.path.join(\"/content/drive/MyDrive/BA_2021/logs\", date_time_string)\n",
        "tensorboard_callback = tf.keras.callbacks.TensorBoard(logdir, histogram_freq=1)\n",
        "\n",
        "folder = os.path.join('/content/drive/MyDrive/BA_2021/checkpoints', date_time_string)\n",
        "if not os.path.exists(folder):\n",
        "    os.makedirs(folder)\n",
        "checkpoint = tf.keras.callbacks.ModelCheckpoint(filepath=os.path.join(folder,'{epoch:02d}-{val_loss:.2f}.hdf5'))\n",
        "\n",
        "callbacks = [checkpoint, tensorboard_callback]"
      ],
      "execution_count": 14,
      "outputs": []
    },
    {
      "cell_type": "code",
      "metadata": {
        "id": "uF8FQ84UcFlP"
      },
      "source": [
        "history = model.fit(dataset_training, steps_per_epoch=720, epochs=30, verbose = 1 ,validation_data = dataset_validation, validation_steps=70, callbacks =[PitchAccuracyCallback()])"
      ],
      "execution_count": null,
      "outputs": []
    },
    {
      "cell_type": "code",
      "metadata": {
        "id": "H0nGmvBn0wO9"
      },
      "source": [
        "plt.plot(history.history['loss'], label='MAE (training data)')\n",
        "plt.plot(history.history['val_loss'], label='MAE (validation data)')\n",
        "plt.show()"
      ],
      "execution_count": null,
      "outputs": []
    },
    {
      "cell_type": "code",
      "metadata": {
        "id": "C4eqzLWm0XrP"
      },
      "source": [
        "model.load_weights(os.path.join('/content/drive/MyDrive/BA_2021/checkpoints', '20210405-202143', '27-1726.69.hdf5'))"
      ],
      "execution_count": 15,
      "outputs": []
    },
    {
      "cell_type": "code",
      "metadata": {
        "id": "6K9FTdRLsbHu"
      },
      "source": [
        "prediction_example = next(iter(dataset_test))"
      ],
      "execution_count": 16,
      "outputs": []
    },
    {
      "cell_type": "code",
      "metadata": {
        "id": "bgj1DGAaAo0v"
      },
      "source": [
        "plt.plot(prediction_example[1][4], 'g')\n",
        "plt.plot(test_prediciton[4], 'r')\n",
        "plt.show()"
      ],
      "execution_count": null,
      "outputs": []
    },
    {
      "cell_type": "markdown",
      "metadata": {
        "id": "iBXKPxfwpRHZ"
      },
      "source": [
        "# WAV Encoder"
      ]
    },
    {
      "cell_type": "code",
      "metadata": {
        "id": "LzhiEwxYrHWF"
      },
      "source": [
        "import scipy.io.wavfile as wavf"
      ],
      "execution_count": null,
      "outputs": []
    },
    {
      "cell_type": "code",
      "metadata": {
        "id": "QiuWfO7opQSw"
      },
      "source": [
        "def wav_encoder(splitted_samples):\n",
        "    #splittet_samples = next(iter(dataset_test))\n",
        "    samples = []\n",
        "    for i in range(len(splitted_samples[0][0])):\n",
        "        for j in range(len(splitted_samples[0][0][0]) - config['frame_step']):\n",
        "            samples = np.append(samples, splitted_samples[0][0][i][j])\n",
        "\n",
        "    date_time = datetime.datetime.now().strftime(\"%Y%m%d-%H%M%S\")\n",
        "    out_file = 'out_' + date_time + '.wav'\n",
        "    wavf.write(out_file, config['fs'], samples)\n"
      ],
      "execution_count": null,
      "outputs": []
    },
    {
      "cell_type": "code",
      "metadata": {
        "id": "9rjW5vszssTi"
      },
      "source": [
        "wav_encoder(next(iter(dataset_test)))"
      ],
      "execution_count": null,
      "outputs": []
    },
    {
      "cell_type": "markdown",
      "metadata": {
        "id": "hnQ-RIQnJUtX"
      },
      "source": [
        "# Metrics Test"
      ]
    },
    {
      "cell_type": "code",
      "metadata": {
        "id": "0NrqBj-d3uEZ"
      },
      "source": [
        "!pip install mir_eval\n",
        "import mir_eval"
      ],
      "execution_count": null,
      "outputs": []
    },
    {
      "cell_type": "code",
      "metadata": {
        "id": "PA-lvZWXBSeF"
      },
      "source": [
        "test_prediction = model.predict(dataset_test, steps=1, callbacks=[PitchAccuracyCallback(dataset_test)])"
      ],
      "execution_count": null,
      "outputs": []
    },
    {
      "cell_type": "code",
      "metadata": {
        "id": "_Q5o6UKE3DBc"
      },
      "source": [
        "def raw_pitch_accuracy(pitch_ref, pitch_est):\n",
        "    counter_true = 0\n",
        "    counter_false = 0\n",
        "    for i in range(len(pitch_ref)):\n",
        "        if abs(pitch_est[i] - pitch_ref[i]) <= 50.0:\n",
        "            counter_true += 1\n",
        "        else:\n",
        "            counter_false += 1\n",
        "        \n",
        "    result = counter_true / (counter_true + counter_false) * 100\n",
        "    return result"
      ],
      "execution_count": 52,
      "outputs": []
    },
    {
      "cell_type": "code",
      "metadata": {
        "id": "iiUe3edt3FL6"
      },
      "source": [
        "errors = []\n",
        "\n",
        "for inp, outp in dataset_test:\n",
        "    summed_error = 0\n",
        "    pred = model.predict(inp)\n",
        "    pred = pred.reshape(outp.shape)\n",
        "    for i in range(len(pred)):\n",
        "        pitch_ref = mir_eval.melody.hz2cents(outp[i].numpy(), base_frequency=10.0)\n",
        "        pitch_est = mir_eval.melody.hz2cents(pred[i], base_frequency=10.0)\n",
        "        error = raw_pitch_accuracy(pitch_ref=pitch_ref, pitch_est=pitch_est)\n",
        "        summed_error += error\n",
        "    errors.append(summed_error / len(pred))"
      ],
      "execution_count": null,
      "outputs": []
    },
    {
      "cell_type": "code",
      "metadata": {
        "id": "R-El-me53RFb",
        "outputId": "66e9cec1-a1ce-4c62-e3ea-5f327d92937f",
        "colab": {
          "base_uri": "https://localhost:8080/"
        }
      },
      "source": [
        "print(np.mean(errors))"
      ],
      "execution_count": 73,
      "outputs": [
        {
          "output_type": "stream",
          "text": [
            "61.46673387096775\n"
          ],
          "name": "stdout"
        }
      ]
    }
  ]
}