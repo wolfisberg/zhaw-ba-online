{
  "nbformat": 4,
  "nbformat_minor": 0,
  "metadata": {
    "colab": {
      "name": "High_Performance_Pitch_Detection.ipynb",
      "provenance": [],
      "collapsed_sections": [],
      "machine_shape": "hm",
      "include_colab_link": true
    },
    "kernelspec": {
      "name": "python3",
      "display_name": "Python 3"
    },
    "accelerator": "GPU"
  },
  "cells": [
    {
      "cell_type": "markdown",
      "metadata": {
        "id": "view-in-github",
        "colab_type": "text"
      },
      "source": [
        "<a href=\"https://colab.research.google.com/github/wolfisberg/zhaw-ba-online/blob/main/High_Performance_Pitch_Detection.ipynb\" target=\"_parent\"><img src=\"https://colab.research.google.com/assets/colab-badge.svg\" alt=\"Open In Colab\"/></a>"
      ]
    },
    {
      "cell_type": "code",
      "metadata": {
        "id": "0Q42BY8BPSoL",
        "colab": {
          "base_uri": "https://localhost:8080/"
        },
        "outputId": "f7b55adb-987c-4a0e-836c-1436b244c2bc"
      },
      "source": [
        "from google.colab import drive\n",
        "drive.mount('/content/drive')\n",
        "\n",
        "data_folder = '/content/drive/MyDrive/BA_2021/tfrecords'\n"
      ],
      "execution_count": 25,
      "outputs": [
        {
          "output_type": "stream",
          "text": [
            "Drive already mounted at /content/drive; to attempt to forcibly remount, call drive.mount(\"/content/drive\", force_remount=True).\n"
          ],
          "name": "stdout"
        }
      ]
    },
    {
      "cell_type": "code",
      "metadata": {
        "id": "LIFRo1TElCtP"
      },
      "source": [
        "import shutil\n",
        "import os\n",
        "\n",
        "data_folder_local = '/content'\n",
        "if not os.path.exists(data_folder_local):\n",
        "    os.mkdir(data_folder_local)\n",
        "shutil.copytree(data_folder, os.path.join(data_folder_local, 'data'))\n",
        "data_folder = os.path.join(data_folder_local, 'data', 'tfrecords')"
      ],
      "execution_count": 33,
      "outputs": []
    },
    {
      "cell_type": "code",
      "metadata": {
        "id": "8R2rTIWJM8I7"
      },
      "source": [
        "import datetime\n",
        "import os\n",
        "\n",
        "import numpy as np\n",
        "import tensorflow as tf\n",
        "import scipy.interpolate\n",
        "import matplotlib.pyplot as plt\n",
        "%load_ext tensorboard\n"
      ],
      "execution_count": null,
      "outputs": []
    },
    {
      "cell_type": "code",
      "metadata": {
        "id": "CWZIc9-WSItM"
      },
      "source": [
        "config = {}\n",
        "config['batch_size'] = 64\n",
        "config['SNR_range'] = (-5.0,20.0) #dB\n",
        "config['frame_length'] = 512\n",
        "config['frame_step'] = 256\n",
        "config['min_rand_gain'] = 0.05\n",
        "config['max_rand_gain'] = 1.1\n",
        "config['sample_length'] = 3 #shorter than shortest noise/speech sample\n",
        "config['fs'] = 16000\n",
        "config['num_frames'] = 1 + (config['fs']*config['sample_length'] - config['frame_length']) // config['frame_step']\n",
        "config['pitch_sampling_time'] = 0.01 # s\n",
        "config['pitch_confidence_threshold'] = 0.15\n",
        "config['pitch_frame_length'] = 0.032 # s\n",
        "seed = 2"
      ],
      "execution_count": null,
      "outputs": []
    },
    {
      "cell_type": "code",
      "metadata": {
        "id": "LiWpJb-nMZmH"
      },
      "source": [
        "parsing_config_noise = {\n",
        "        'data': tf.io.VarLenFeature(tf.string),\n",
        "        'data_sampling_rate': tf.io.VarLenFeature(tf.int64),\n",
        "        'data_num_channels': tf.io.VarLenFeature(tf.int64),\n",
        "        'data_width': tf.io.VarLenFeature(tf.int64),\n",
        "        }\n",
        "\n",
        "def parse_noise_record(serialized_example):\n",
        "    parsed_features = tf.io.parse_single_example(\n",
        "        serialized_example, features=parsing_config_noise\n",
        "    )\n",
        "\n",
        "    decoded_features = {\n",
        "        \"data_num_channels\": tf.cast(parsed_features[\"data_num_channels\"].values[0], tf.int32),\n",
        "        \"data_sampling_rate\": tf.cast(parsed_features[\"data_sampling_rate\"].values[0], tf.int32),\n",
        "        \"data_width\": tf.cast(parsed_features[\"data_width\"].values[0], tf.int32),\n",
        "    }\n",
        "    data = tf.io.decode_raw(parsed_features['data'].values[0], tf.int16)\n",
        "    decoded_features.update({\"data\": data})\n",
        "    return decoded_features\n",
        "\n",
        "parsing_config_speech = {\n",
        "        'data': tf.io.VarLenFeature(tf.string),\n",
        "        'data_sampling_rate': tf.io.VarLenFeature(tf.int64),\n",
        "        'data_num_channels': tf.io.VarLenFeature(tf.int64),\n",
        "        'data_width': tf.io.VarLenFeature(tf.int64),\n",
        "        'pitch': tf.io.VarLenFeature(tf.float32),\n",
        "        'pitch_confidence': tf.io.VarLenFeature(tf.float32),\n",
        "        }\n",
        "\n",
        "def parse_speech_record(serialized_example):\n",
        "    parsed_features = tf.io.parse_single_example(\n",
        "        serialized_example, features=parsing_config_speech\n",
        "    )\n",
        "\n",
        "    decoded_features = {\n",
        "        \"data_num_channels\": tf.cast(parsed_features[\"data_num_channels\"].values[0], tf.int32),\n",
        "        \"data_sampling_rate\": tf.cast(parsed_features[\"data_sampling_rate\"].values[0], tf.int32),\n",
        "        \"data_width\": tf.cast(parsed_features[\"data_width\"].values[0], tf.int32),\n",
        "        \"pitch\": tf.cast(parsed_features['pitch'].values, tf.float32),\n",
        "        \"pitch_confidence\": tf.cast(parsed_features['pitch_confidence'].values, tf.float32),\n",
        "    }\n",
        "    data = tf.io.decode_raw(parsed_features['data'].values[0], tf.int16)\n",
        "    decoded_features.update({\"data\": data})\n",
        "    return decoded_features"
      ],
      "execution_count": null,
      "outputs": []
    },
    {
      "cell_type": "code",
      "metadata": {
        "id": "ioyOSZ-dSzX5"
      },
      "source": [
        "def mix_noisy_speech(speech, noise):   \n",
        "    speech_pow = tf.math.reduce_euclidean_norm(speech)\n",
        "    noise_pow = tf.math.reduce_euclidean_norm(noise)\n",
        "\n",
        "    min_SNR = config['SNR_range'][0]\n",
        "    max_SNR = config['SNR_range'][1]\n",
        "    snr_current = 20.0*tf.math.log(speech_pow/noise_pow)/tf.math.log(10.0)\n",
        "    snr_target = tf.random.uniform((),minval=min_SNR,maxval=max_SNR)\n",
        "\n",
        "    noise = noise * tf.math.pow(10.0,(snr_current-snr_target)/20.0)\n",
        "    noisy_speech = speech+noise\n",
        "\n",
        "    return speech, noise, noisy_speech"
      ],
      "execution_count": null,
      "outputs": []
    },
    {
      "cell_type": "code",
      "metadata": {
        "id": "OAmRVXpsXsey"
      },
      "source": [
        "def interpolate_pitch(pitch,t):\n",
        "    pitch = pitch.numpy()\n",
        "    t = t.numpy()\n",
        "    t_pitch = np.arange(0, len(pitch))*config['pitch_sampling_time']+config['pitch_frame_length']/2\n",
        "    f = scipy.interpolate.interp1d(t_pitch, pitch, 'nearest')\n",
        "    return f(t).astype(np.float32)\n",
        "\n",
        "@tf.function\n",
        "def interpolate_pitch_tf(pitch,t):\n",
        "    y = tf.py_function(interpolate_pitch,[pitch,t], Tout=tf.float32)\n",
        "    return tf.squeeze(y)\n"
      ],
      "execution_count": null,
      "outputs": []
    },
    {
      "cell_type": "code",
      "metadata": {
        "id": "nd2WJFq4SX9Z"
      },
      "source": [
        "def calc_features(speech_data, noise_data):\n",
        "    speech = tf.squeeze(tf.cast(speech_data[\"data\"],tf.float32))\n",
        "    noise = tf.squeeze(tf.cast(noise_data[\"data\"],tf.float32))\n",
        "    speech = speech/tf.int16.max\n",
        "    noise = noise/tf.int16.max\n",
        "\n",
        "    random_start_idx = int(tf.round(tf.random.uniform([],maxval=(tf.cast(len(noise),tf.float32)-config['sample_length']*config['fs']-config['pitch_sampling_time']))))\n",
        "    noise = noise[random_start_idx:random_start_idx+config['sample_length']*config['fs']]\n",
        "\n",
        "    random_start_idx = int(tf.round(tf.random.uniform([],minval=161,maxval=(tf.cast(len(speech),tf.float32)-config['sample_length']*config['fs']-161))))\n",
        "    speech = speech[random_start_idx:random_start_idx+config['sample_length']*config['fs']]\n",
        "\n",
        "    SNR_range = config['SNR_range']\n",
        "    frame_length = config['frame_length']\n",
        "    frame_step = config['frame_step']\n",
        "    speech, noise, noisy = mix_noisy_speech(speech, noise)\n",
        "    \n",
        "    random_gain = tf.math.exp(tf.random.uniform([],minval=tf.math.log(config['min_rand_gain']),maxval=tf.math.log(config['max_rand_gain'])))\n",
        "    noisy = random_gain*noisy\n",
        "    \n",
        "    noisy_frames = tf.signal.frame(noisy,frame_length,frame_step)\n",
        "    #noisy_stft = tf.signal.stft(noisy,frame_length,frame_step)\n",
        "    frame_times = random_start_idx/config['fs']+tf.range(0,config['num_frames'])*frame_step/config['fs']+frame_length/config['fs']\n",
        "    \n",
        "    pitch = tf.squeeze(speech_data[\"pitch\"])\n",
        "    pitch_confidence = tf.squeeze(speech_data[\"pitch_confidence\"])\n",
        "    #pitch = tf.where(pitch_confidence>config['pitch_confidence_threshold'],pitch,0)\n",
        "    pitch_interpolated = interpolate_pitch_tf(pitch,frame_times)\n",
        "    return noisy_frames, pitch_interpolated\n",
        "\n"
      ],
      "execution_count": null,
      "outputs": []
    },
    {
      "cell_type": "markdown",
      "metadata": {
        "id": "USi8TGtFZ9nH"
      },
      "source": [
        "# Dataset"
      ]
    },
    {
      "cell_type": "code",
      "metadata": {
        "id": "ZgHcOd2mNDRk"
      },
      "source": [
        "speech_data_folder = os.path.join(data_folder,'speech', 'cv')\n",
        "noise_data_folder = os.path.join(data_folder,'noise', 'cv')"
      ],
      "execution_count": null,
      "outputs": []
    },
    {
      "cell_type": "code",
      "metadata": {
        "id": "NYk7tOiUNBP8",
        "colab": {
          "base_uri": "https://localhost:8080/"
        },
        "outputId": "dad0c987-fa4b-4ef2-cfdf-7745e0a20cdf"
      },
      "source": [
        "speech_ds = tf.data.TFRecordDataset([os.path.join(speech_data_folder,file) for file in os.listdir(speech_data_folder)])\n",
        "speech_ds = speech_ds.map(parse_speech_record).repeat(None).shuffle(buffer_size=1000, seed=seed)\n",
        "\n",
        "noise_ds = tf.data.TFRecordDataset([os.path.join(noise_data_folder,file) for file in os.listdir(noise_data_folder)])\n",
        "noise_ds = noise_ds.map(parse_noise_record).repeat(None).shuffle(buffer_size=1000, seed=seed)\n",
        "\n",
        "\n",
        "dataset_combined = tf.data.Dataset.zip((speech_ds, noise_ds))\n",
        "dataset_features = dataset_combined.map(calc_features, num_parallel_calls=tf.data.experimental.AUTOTUNE)\n",
        "dataset_features = dataset_features.batch(config['batch_size'], drop_remainder=True).prefetch(tf.data.experimental.AUTOTUNE)\n",
        "\n",
        "#dataset_training = dataset_features\n",
        "dataset_validation = dataset_features\n",
        "#dataset_test = dataset_features\n",
        "print('ToDo: add validation and test datasets!')"
      ],
      "execution_count": null,
      "outputs": [
        {
          "output_type": "stream",
          "text": [
            "ToDo: add validation and test datasets!\n"
          ],
          "name": "stdout"
        }
      ]
    },
    {
      "cell_type": "markdown",
      "metadata": {
        "id": "NheECAK6aBCB"
      },
      "source": [
        "## Model Beispiel von Philipp"
      ]
    },
    {
      "cell_type": "code",
      "metadata": {
        "id": "wp2zd6v8VsS2"
      },
      "source": [
        "model = tf.keras.models.Sequential()\n",
        "model.add(tf.keras.layers.LSTM(256,return_sequences=True, input_shape=(config['num_frames'], config['frame_length'])))\n",
        "model.add(tf.keras.layers.LSTM(128,return_sequences=True))\n",
        "model.add(tf.keras.layers.Dense(128,activation='relu'))\n",
        "model.add(tf.keras.layers.Dense(1,activation='relu'))\n",
        "model.compile(loss='mean_squared_error', optimizer='adam')\n",
        "model.summary()"
      ],
      "execution_count": null,
      "outputs": []
    },
    {
      "cell_type": "markdown",
      "metadata": {
        "id": "q2yz6Z7IpjOD"
      },
      "source": [
        "# Crepe"
      ]
    },
    {
      "cell_type": "code",
      "metadata": {
        "id": "b1jj7MTOmqcr"
      },
      "source": [
        "from tensorflow.keras.layers import Input, Reshape, Conv2D, BatchNormalization\n",
        "from tensorflow.keras.layers import MaxPool2D, Dropout, Permute, Flatten, Dense\n",
        "from tensorflow.keras.models import Model\n",
        "\n",
        "\n",
        "layers = [1, 2, 3, 4, 5, 6]\n",
        "filters = [n * 32 for n in [32, 4, 4, 4, 8, 16]]\n",
        "widths = [512, 64, 64, 64, 64, 64]\n",
        "strides = [(4, 1), (1, 1), (1, 1), (1, 1), (1, 1), (1, 1)]\n",
        "\n",
        "x = Input(shape=(1024,), name='input', dtype='float32')\n",
        "y = Reshape(target_shape=(1024, 1, 1), name='input-reshape')(x)\n",
        "print(y)\n",
        "for l, f, w, s in zip(layers, filters, widths, strides):\n",
        "    y = Conv2D(f, (w, 1), strides=s, padding='same',\n",
        "                activation='relu', name=\"conv%d\" % l)(y)\n",
        "    y = BatchNormalization(name=\"conv%d-BN\" % l)(y)\n",
        "    y = MaxPool2D(pool_size=(2, 1), strides=None, padding='valid',\n",
        "                    name=\"conv%d-maxpool\" % l)(y)\n",
        "    y = Dropout(0.25, name=\"conv%d-dropout\" % l)(y)\n",
        "\n",
        "y = Permute((2, 1, 3), name=\"transpose\")(y)\n",
        "y = Flatten(name=\"flatten\")(y)\n",
        "y = Dense(360, activation='sigmoid', name=\"classifier\")(y)\n",
        "\n",
        "model = Model(inputs=x, outputs=y)\n",
        "model.compile('adam', 'binary_crossentropy')"
      ],
      "execution_count": null,
      "outputs": []
    },
    {
      "cell_type": "code",
      "metadata": {
        "id": "RLP7UOP_ovTF"
      },
      "source": [
        "model.summary()"
      ],
      "execution_count": null,
      "outputs": []
    },
    {
      "cell_type": "markdown",
      "metadata": {
        "id": "eyq0DRgesONA"
      },
      "source": [
        "# Luca's Try"
      ]
    },
    {
      "cell_type": "code",
      "metadata": {
        "id": "alDUwb3-FPey"
      },
      "source": [
        "from tensorflow.keras import layers\n",
        "from tensorflow import Tensor\n",
        "from tensorflow.keras.layers import Input, Conv1D, ReLU, BatchNormalization,\\\n",
        "                                    AveragePooling1D, Flatten, Dense, Reshape\n",
        "from tensorflow.keras.models import Model"
      ],
      "execution_count": null,
      "outputs": []
    },
    {
      "cell_type": "code",
      "metadata": {
        "id": "FraPnrxaBpL2"
      },
      "source": [
        "def resblock(x, filters, kernelsize, dilationrate):\n",
        "    fx = layers.Conv1D(filters, kernelsize,strides=1, dilation_rate=dilationrate, activation='relu', padding='same')(x)\n",
        "    fx = layers.BatchNormalization()(fx)\n",
        "    fx = layers.Conv1D(filters, kernelsize, padding='same')(fx)\n",
        "    out = layers.Add()([x,fx])\n",
        "    out = layers.ReLU()(out)\n",
        "    #out = layers.BatchNormalization()(out)\n",
        "    return out"
      ],
      "execution_count": null,
      "outputs": []
    },
    {
      "cell_type": "code",
      "metadata": {
        "id": "RJuYMDhkGbyN"
      },
      "source": [
        "def create_cnn():\n",
        "    inputs = Input(shape=(config['num_frames'], config['frame_length']))\n",
        "    #inputs = Input(shape=(1024, 512))\n",
        "    #inputs = Reshape(target_shape=(186, 512, 1))(inputs)\n",
        "    #t = BatchNormalization()(inputs)\n",
        "    t = Conv1D(filters=128, kernel_size=(64), padding='same')(inputs)\n",
        "    dilation_rate_list = [1, 2, 4, 8]\n",
        "    for i in range(len(dilation_rate_list)):\n",
        "        dilation_rate = dilation_rate_list[i]\n",
        "        t = resblock(t, 128, 64, dilation_rate)\n",
        "\n",
        "    t = AveragePooling1D(64)(t)\n",
        "    t = Flatten()(t)\n",
        "\n",
        "    outputs = Dense(1, activation='sigmoid', name=\"classifier\")(t)\n",
        "    model = Model(inputs, outputs)\n",
        "\n",
        "    model.compile(optimizer='adam', loss='binary_crossentropy')\n",
        "\n",
        "    return model\n",
        "\n",
        "    "
      ],
      "execution_count": null,
      "outputs": []
    },
    {
      "cell_type": "code",
      "metadata": {
        "id": "SajaqqHPFULB"
      },
      "source": [
        "model = create_cnn()\n",
        "model.summary()"
      ],
      "execution_count": null,
      "outputs": []
    },
    {
      "cell_type": "code",
      "metadata": {
        "id": "k-sDAouJnL5r"
      },
      "source": [
        "tf.keras.utils.plot_model(model, show_shapes=True)"
      ],
      "execution_count": null,
      "outputs": []
    },
    {
      "cell_type": "markdown",
      "metadata": {
        "id": "KV-SpsYhaCNV"
      },
      "source": [
        "# Train Model"
      ]
    },
    {
      "cell_type": "code",
      "metadata": {
        "id": "vHZ4eMqMnchd"
      },
      "source": [
        "%tensorboard --logdir /content/drive/MyDrive/BA_2021/logs"
      ],
      "execution_count": null,
      "outputs": []
    },
    {
      "cell_type": "code",
      "metadata": {
        "id": "j7oNvhYTaEnc",
        "colab": {
          "base_uri": "https://localhost:8080/"
        },
        "outputId": "5704761d-9d89-4069-da84-2aff599f4403"
      },
      "source": [
        "print('ToDo: change paths to google drive --> checkpoints (weights of NNs afer each epoch) etc will be permanently saved there')\n",
        "date_time_string = datetime.datetime.now().strftime(\"%Y%m%d-%H%M%S\")\n",
        "logdir = os.path.join(\"/content/drive/MyDrive/BA_2021/logs\", date_time_string)\n",
        "tensorboard_callback = tf.keras.callbacks.TensorBoard(logdir, histogram_freq=1)\n",
        "\n",
        "folder = os.path.join('/content/drive/MyDrive/BA_2021/checkpoints', date_time_string)\n",
        "if not os.path.exists(folder):\n",
        "    os.makedirs(folder)\n",
        "checkpoint = tf.keras.callbacks.ModelCheckpoint(filepath=os.path.join(folder,'{epoch:02d}-{val_loss:.2f}.hdf5'))\n",
        "\n",
        "callbacks = [checkpoint, tensorboard_callback]"
      ],
      "execution_count": null,
      "outputs": [
        {
          "output_type": "stream",
          "text": [
            "ToDo: change paths to google drive --> checkpoints (weights of NNs afer each epoch) etc will be permanently saved there\n"
          ],
          "name": "stdout"
        }
      ]
    },
    {
      "cell_type": "code",
      "metadata": {
        "id": "uF8FQ84UcFlP",
        "colab": {
          "base_uri": "https://localhost:8080/",
          "height": 1000
        },
        "outputId": "7ee28c3b-7a91-4d81-a50d-685b1bf2f012"
      },
      "source": [
        "history = model.fit(dataset_training, steps_per_epoch=720, epochs=300, verbose = 1 ,validation_data = dataset_validation, validation_steps=70, callbacks = callbacks)"
      ],
      "execution_count": 24,
      "outputs": [
        {
          "output_type": "stream",
          "text": [
            "Epoch 1/300\n",
            "720/720 [==============================] - 119s 164ms/step - loss: 2247.7664 - val_loss: 2170.3621\n",
            "Epoch 2/300\n",
            "720/720 [==============================] - 118s 164ms/step - loss: 2073.3167 - val_loss: 2165.3333\n",
            "Epoch 3/300\n",
            "720/720 [==============================] - 117s 163ms/step - loss: 2010.4869 - val_loss: 2061.2886\n",
            "Epoch 4/300\n",
            "720/720 [==============================] - 117s 162ms/step - loss: 1946.5106 - val_loss: 1987.4100\n",
            "Epoch 5/300\n",
            "720/720 [==============================] - 117s 163ms/step - loss: 1873.7444 - val_loss: 1891.1449\n",
            "Epoch 6/300\n",
            "720/720 [==============================] - 118s 164ms/step - loss: 1804.2255 - val_loss: 1914.4596\n",
            "Epoch 7/300\n",
            "720/720 [==============================] - 114s 159ms/step - loss: 1778.0975 - val_loss: 1773.5198\n",
            "Epoch 8/300\n",
            "720/720 [==============================] - 111s 154ms/step - loss: 1711.0474 - val_loss: 1685.5800\n",
            "Epoch 9/300\n",
            "720/720 [==============================] - 112s 156ms/step - loss: 1657.4769 - val_loss: 1711.8444\n",
            "Epoch 10/300\n",
            "720/720 [==============================] - 111s 154ms/step - loss: 1618.1516 - val_loss: 1726.6714\n",
            "Epoch 11/300\n",
            "720/720 [==============================] - 111s 154ms/step - loss: 1592.3726 - val_loss: 1647.3789\n",
            "Epoch 12/300\n",
            "720/720 [==============================] - 113s 157ms/step - loss: 1551.1239 - val_loss: 1572.1362\n",
            "Epoch 13/300\n",
            "720/720 [==============================] - 112s 156ms/step - loss: 1513.8517 - val_loss: 1508.6583\n",
            "Epoch 14/300\n",
            "720/720 [==============================] - 110s 154ms/step - loss: 1504.7898 - val_loss: 1490.7261\n",
            "Epoch 15/300\n",
            "720/720 [==============================] - 112s 156ms/step - loss: 1475.0536 - val_loss: 1471.7500\n",
            "Epoch 16/300\n",
            "720/720 [==============================] - 113s 157ms/step - loss: 1443.3270 - val_loss: 1495.6655\n",
            "Epoch 17/300\n",
            "720/720 [==============================] - 110s 154ms/step - loss: 1416.9689 - val_loss: 1466.5626\n",
            "Epoch 18/300\n",
            "720/720 [==============================] - 113s 157ms/step - loss: 1390.5404 - val_loss: 1432.6321\n",
            "Epoch 19/300\n",
            "720/720 [==============================] - 113s 158ms/step - loss: 1361.2207 - val_loss: 1418.1647\n",
            "Epoch 20/300\n",
            "720/720 [==============================] - 111s 154ms/step - loss: 1350.4752 - val_loss: 1333.6326\n",
            "Epoch 21/300\n",
            "720/720 [==============================] - 112s 155ms/step - loss: 1335.4663 - val_loss: 1367.2539\n",
            "Epoch 22/300\n",
            "720/720 [==============================] - 113s 157ms/step - loss: 1298.5602 - val_loss: 1353.6483\n",
            "Epoch 23/300\n",
            "720/720 [==============================] - 111s 154ms/step - loss: 1277.6100 - val_loss: 1279.4211\n",
            "Epoch 24/300\n",
            "720/720 [==============================] - 112s 156ms/step - loss: 1262.1467 - val_loss: 1297.2233\n",
            "Epoch 25/300\n",
            "720/720 [==============================] - 112s 156ms/step - loss: 1232.8901 - val_loss: 1251.5831\n",
            "Epoch 26/300\n",
            "720/720 [==============================] - 111s 154ms/step - loss: 1224.5636 - val_loss: 1234.5333\n",
            "Epoch 27/300\n",
            "282/720 [==========>...................] - ETA: 47s - loss: 1200.6807"
          ],
          "name": "stdout"
        },
        {
          "output_type": "error",
          "ename": "NotFoundError",
          "evalue": "ignored",
          "traceback": [
            "\u001b[0;31m---------------------------------------------------------------------------\u001b[0m",
            "\u001b[0;31mNotFoundError\u001b[0m                             Traceback (most recent call last)",
            "\u001b[0;32m<ipython-input-24-712e6d080985>\u001b[0m in \u001b[0;36m<module>\u001b[0;34m()\u001b[0m\n\u001b[0;32m----> 1\u001b[0;31m \u001b[0mhistory\u001b[0m \u001b[0;34m=\u001b[0m \u001b[0mmodel\u001b[0m\u001b[0;34m.\u001b[0m\u001b[0mfit\u001b[0m\u001b[0;34m(\u001b[0m\u001b[0mdataset_training\u001b[0m\u001b[0;34m,\u001b[0m \u001b[0msteps_per_epoch\u001b[0m\u001b[0;34m=\u001b[0m\u001b[0;36m720\u001b[0m\u001b[0;34m,\u001b[0m \u001b[0mepochs\u001b[0m\u001b[0;34m=\u001b[0m\u001b[0;36m300\u001b[0m\u001b[0;34m,\u001b[0m \u001b[0mverbose\u001b[0m \u001b[0;34m=\u001b[0m \u001b[0;36m1\u001b[0m \u001b[0;34m,\u001b[0m\u001b[0mvalidation_data\u001b[0m \u001b[0;34m=\u001b[0m \u001b[0mdataset_validation\u001b[0m\u001b[0;34m,\u001b[0m \u001b[0mvalidation_steps\u001b[0m\u001b[0;34m=\u001b[0m\u001b[0;36m70\u001b[0m\u001b[0;34m,\u001b[0m \u001b[0mcallbacks\u001b[0m \u001b[0;34m=\u001b[0m \u001b[0mcallbacks\u001b[0m\u001b[0;34m)\u001b[0m\u001b[0;34m\u001b[0m\u001b[0;34m\u001b[0m\u001b[0m\n\u001b[0m",
            "\u001b[0;32m/usr/local/lib/python3.7/dist-packages/tensorflow/python/keras/engine/training.py\u001b[0m in \u001b[0;36mfit\u001b[0;34m(self, x, y, batch_size, epochs, verbose, callbacks, validation_split, validation_data, shuffle, class_weight, sample_weight, initial_epoch, steps_per_epoch, validation_steps, validation_batch_size, validation_freq, max_queue_size, workers, use_multiprocessing)\u001b[0m\n\u001b[1;32m   1098\u001b[0m                 _r=1):\n\u001b[1;32m   1099\u001b[0m               \u001b[0mcallbacks\u001b[0m\u001b[0;34m.\u001b[0m\u001b[0mon_train_batch_begin\u001b[0m\u001b[0;34m(\u001b[0m\u001b[0mstep\u001b[0m\u001b[0;34m)\u001b[0m\u001b[0;34m\u001b[0m\u001b[0;34m\u001b[0m\u001b[0m\n\u001b[0;32m-> 1100\u001b[0;31m               \u001b[0mtmp_logs\u001b[0m \u001b[0;34m=\u001b[0m \u001b[0mself\u001b[0m\u001b[0;34m.\u001b[0m\u001b[0mtrain_function\u001b[0m\u001b[0;34m(\u001b[0m\u001b[0miterator\u001b[0m\u001b[0;34m)\u001b[0m\u001b[0;34m\u001b[0m\u001b[0;34m\u001b[0m\u001b[0m\n\u001b[0m\u001b[1;32m   1101\u001b[0m               \u001b[0;32mif\u001b[0m \u001b[0mdata_handler\u001b[0m\u001b[0;34m.\u001b[0m\u001b[0mshould_sync\u001b[0m\u001b[0;34m:\u001b[0m\u001b[0;34m\u001b[0m\u001b[0;34m\u001b[0m\u001b[0m\n\u001b[1;32m   1102\u001b[0m                 \u001b[0mcontext\u001b[0m\u001b[0;34m.\u001b[0m\u001b[0masync_wait\u001b[0m\u001b[0;34m(\u001b[0m\u001b[0;34m)\u001b[0m\u001b[0;34m\u001b[0m\u001b[0;34m\u001b[0m\u001b[0m\n",
            "\u001b[0;32m/usr/local/lib/python3.7/dist-packages/tensorflow/python/eager/def_function.py\u001b[0m in \u001b[0;36m__call__\u001b[0;34m(self, *args, **kwds)\u001b[0m\n\u001b[1;32m    826\u001b[0m     \u001b[0mtracing_count\u001b[0m \u001b[0;34m=\u001b[0m \u001b[0mself\u001b[0m\u001b[0;34m.\u001b[0m\u001b[0mexperimental_get_tracing_count\u001b[0m\u001b[0;34m(\u001b[0m\u001b[0;34m)\u001b[0m\u001b[0;34m\u001b[0m\u001b[0;34m\u001b[0m\u001b[0m\n\u001b[1;32m    827\u001b[0m     \u001b[0;32mwith\u001b[0m \u001b[0mtrace\u001b[0m\u001b[0;34m.\u001b[0m\u001b[0mTrace\u001b[0m\u001b[0;34m(\u001b[0m\u001b[0mself\u001b[0m\u001b[0;34m.\u001b[0m\u001b[0m_name\u001b[0m\u001b[0;34m)\u001b[0m \u001b[0;32mas\u001b[0m \u001b[0mtm\u001b[0m\u001b[0;34m:\u001b[0m\u001b[0;34m\u001b[0m\u001b[0;34m\u001b[0m\u001b[0m\n\u001b[0;32m--> 828\u001b[0;31m       \u001b[0mresult\u001b[0m \u001b[0;34m=\u001b[0m \u001b[0mself\u001b[0m\u001b[0;34m.\u001b[0m\u001b[0m_call\u001b[0m\u001b[0;34m(\u001b[0m\u001b[0;34m*\u001b[0m\u001b[0margs\u001b[0m\u001b[0;34m,\u001b[0m \u001b[0;34m**\u001b[0m\u001b[0mkwds\u001b[0m\u001b[0;34m)\u001b[0m\u001b[0;34m\u001b[0m\u001b[0;34m\u001b[0m\u001b[0m\n\u001b[0m\u001b[1;32m    829\u001b[0m       \u001b[0mcompiler\u001b[0m \u001b[0;34m=\u001b[0m \u001b[0;34m\"xla\"\u001b[0m \u001b[0;32mif\u001b[0m \u001b[0mself\u001b[0m\u001b[0;34m.\u001b[0m\u001b[0m_experimental_compile\u001b[0m \u001b[0;32melse\u001b[0m \u001b[0;34m\"nonXla\"\u001b[0m\u001b[0;34m\u001b[0m\u001b[0;34m\u001b[0m\u001b[0m\n\u001b[1;32m    830\u001b[0m       \u001b[0mnew_tracing_count\u001b[0m \u001b[0;34m=\u001b[0m \u001b[0mself\u001b[0m\u001b[0;34m.\u001b[0m\u001b[0mexperimental_get_tracing_count\u001b[0m\u001b[0;34m(\u001b[0m\u001b[0;34m)\u001b[0m\u001b[0;34m\u001b[0m\u001b[0;34m\u001b[0m\u001b[0m\n",
            "\u001b[0;32m/usr/local/lib/python3.7/dist-packages/tensorflow/python/eager/def_function.py\u001b[0m in \u001b[0;36m_call\u001b[0;34m(self, *args, **kwds)\u001b[0m\n\u001b[1;32m    853\u001b[0m       \u001b[0;31m# In this case we have created variables on the first call, so we run the\u001b[0m\u001b[0;34m\u001b[0m\u001b[0;34m\u001b[0m\u001b[0;34m\u001b[0m\u001b[0m\n\u001b[1;32m    854\u001b[0m       \u001b[0;31m# defunned version which is guaranteed to never create variables.\u001b[0m\u001b[0;34m\u001b[0m\u001b[0;34m\u001b[0m\u001b[0;34m\u001b[0m\u001b[0m\n\u001b[0;32m--> 855\u001b[0;31m       \u001b[0;32mreturn\u001b[0m \u001b[0mself\u001b[0m\u001b[0;34m.\u001b[0m\u001b[0m_stateless_fn\u001b[0m\u001b[0;34m(\u001b[0m\u001b[0;34m*\u001b[0m\u001b[0margs\u001b[0m\u001b[0;34m,\u001b[0m \u001b[0;34m**\u001b[0m\u001b[0mkwds\u001b[0m\u001b[0;34m)\u001b[0m  \u001b[0;31m# pylint: disable=not-callable\u001b[0m\u001b[0;34m\u001b[0m\u001b[0;34m\u001b[0m\u001b[0m\n\u001b[0m\u001b[1;32m    856\u001b[0m     \u001b[0;32melif\u001b[0m \u001b[0mself\u001b[0m\u001b[0;34m.\u001b[0m\u001b[0m_stateful_fn\u001b[0m \u001b[0;32mis\u001b[0m \u001b[0;32mnot\u001b[0m \u001b[0;32mNone\u001b[0m\u001b[0;34m:\u001b[0m\u001b[0;34m\u001b[0m\u001b[0;34m\u001b[0m\u001b[0m\n\u001b[1;32m    857\u001b[0m       \u001b[0;31m# Release the lock early so that multiple threads can perform the call\u001b[0m\u001b[0;34m\u001b[0m\u001b[0;34m\u001b[0m\u001b[0;34m\u001b[0m\u001b[0m\n",
            "\u001b[0;32m/usr/local/lib/python3.7/dist-packages/tensorflow/python/eager/function.py\u001b[0m in \u001b[0;36m__call__\u001b[0;34m(self, *args, **kwargs)\u001b[0m\n\u001b[1;32m   2941\u001b[0m        filtered_flat_args) = self._maybe_define_function(args, kwargs)\n\u001b[1;32m   2942\u001b[0m     return graph_function._call_flat(\n\u001b[0;32m-> 2943\u001b[0;31m         filtered_flat_args, captured_inputs=graph_function.captured_inputs)  # pylint: disable=protected-access\n\u001b[0m\u001b[1;32m   2944\u001b[0m \u001b[0;34m\u001b[0m\u001b[0m\n\u001b[1;32m   2945\u001b[0m   \u001b[0;34m@\u001b[0m\u001b[0mproperty\u001b[0m\u001b[0;34m\u001b[0m\u001b[0;34m\u001b[0m\u001b[0m\n",
            "\u001b[0;32m/usr/local/lib/python3.7/dist-packages/tensorflow/python/eager/function.py\u001b[0m in \u001b[0;36m_call_flat\u001b[0;34m(self, args, captured_inputs, cancellation_manager)\u001b[0m\n\u001b[1;32m   1917\u001b[0m       \u001b[0;31m# No tape is watching; skip to running the function.\u001b[0m\u001b[0;34m\u001b[0m\u001b[0;34m\u001b[0m\u001b[0;34m\u001b[0m\u001b[0m\n\u001b[1;32m   1918\u001b[0m       return self._build_call_outputs(self._inference_function.call(\n\u001b[0;32m-> 1919\u001b[0;31m           ctx, args, cancellation_manager=cancellation_manager))\n\u001b[0m\u001b[1;32m   1920\u001b[0m     forward_backward = self._select_forward_and_backward_functions(\n\u001b[1;32m   1921\u001b[0m         \u001b[0margs\u001b[0m\u001b[0;34m,\u001b[0m\u001b[0;34m\u001b[0m\u001b[0;34m\u001b[0m\u001b[0m\n",
            "\u001b[0;32m/usr/local/lib/python3.7/dist-packages/tensorflow/python/eager/function.py\u001b[0m in \u001b[0;36mcall\u001b[0;34m(self, ctx, args, cancellation_manager)\u001b[0m\n\u001b[1;32m    558\u001b[0m               \u001b[0minputs\u001b[0m\u001b[0;34m=\u001b[0m\u001b[0margs\u001b[0m\u001b[0;34m,\u001b[0m\u001b[0;34m\u001b[0m\u001b[0;34m\u001b[0m\u001b[0m\n\u001b[1;32m    559\u001b[0m               \u001b[0mattrs\u001b[0m\u001b[0;34m=\u001b[0m\u001b[0mattrs\u001b[0m\u001b[0;34m,\u001b[0m\u001b[0;34m\u001b[0m\u001b[0;34m\u001b[0m\u001b[0m\n\u001b[0;32m--> 560\u001b[0;31m               ctx=ctx)\n\u001b[0m\u001b[1;32m    561\u001b[0m         \u001b[0;32melse\u001b[0m\u001b[0;34m:\u001b[0m\u001b[0;34m\u001b[0m\u001b[0;34m\u001b[0m\u001b[0m\n\u001b[1;32m    562\u001b[0m           outputs = execute.execute_with_cancellation(\n",
            "\u001b[0;32m/usr/local/lib/python3.7/dist-packages/tensorflow/python/eager/execute.py\u001b[0m in \u001b[0;36mquick_execute\u001b[0;34m(op_name, num_outputs, inputs, attrs, ctx, name)\u001b[0m\n\u001b[1;32m     58\u001b[0m     \u001b[0mctx\u001b[0m\u001b[0;34m.\u001b[0m\u001b[0mensure_initialized\u001b[0m\u001b[0;34m(\u001b[0m\u001b[0;34m)\u001b[0m\u001b[0;34m\u001b[0m\u001b[0;34m\u001b[0m\u001b[0m\n\u001b[1;32m     59\u001b[0m     tensors = pywrap_tfe.TFE_Py_Execute(ctx._handle, device_name, op_name,\n\u001b[0;32m---> 60\u001b[0;31m                                         inputs, attrs, num_outputs)\n\u001b[0m\u001b[1;32m     61\u001b[0m   \u001b[0;32mexcept\u001b[0m \u001b[0mcore\u001b[0m\u001b[0;34m.\u001b[0m\u001b[0m_NotOkStatusException\u001b[0m \u001b[0;32mas\u001b[0m \u001b[0me\u001b[0m\u001b[0;34m:\u001b[0m\u001b[0;34m\u001b[0m\u001b[0;34m\u001b[0m\u001b[0m\n\u001b[1;32m     62\u001b[0m     \u001b[0;32mif\u001b[0m \u001b[0mname\u001b[0m \u001b[0;32mis\u001b[0m \u001b[0;32mnot\u001b[0m \u001b[0;32mNone\u001b[0m\u001b[0;34m:\u001b[0m\u001b[0;34m\u001b[0m\u001b[0;34m\u001b[0m\u001b[0m\n",
            "\u001b[0;31mNotFoundError\u001b[0m: 2 root error(s) found.\n  (0) Not found:  /content/drive/MyDrive/BA_2021/tfrecords/speech/cv/shard_speech_cv_0001.tfrecord; No such file or directory\n\t [[node IteratorGetNext (defined at <ipython-input-23-a8e3a35a4269>:1) ]]\n\t [[Func/mean_squared_error/cond/else/_1/mean_squared_error/cond/remove_squeezable_dimensions/cond_1/then/_88/input/_153/_54]]\n  (1) Not found:  /content/drive/MyDrive/BA_2021/tfrecords/speech/cv/shard_speech_cv_0001.tfrecord; No such file or directory\n\t [[node IteratorGetNext (defined at <ipython-input-23-a8e3a35a4269>:1) ]]\n0 successful operations.\n0 derived errors ignored. [Op:__inference_train_function_8726]\n\nFunction call stack:\ntrain_function -> train_function\n"
          ]
        }
      ]
    },
    {
      "cell_type": "code",
      "metadata": {
        "id": "B563zVevmRP9"
      },
      "source": [
        "from google.colab import drive\n",
        "drive.mount('/content/drive')"
      ],
      "execution_count": null,
      "outputs": []
    }
  ]
}