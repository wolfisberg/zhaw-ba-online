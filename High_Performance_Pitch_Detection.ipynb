{
  "nbformat": 4,
  "nbformat_minor": 0,
  "metadata": {
    "colab": {
      "name": "High_Performance_Pitch_Detection.ipynb",
      "provenance": [],
      "collapsed_sections": [],
      "machine_shape": "hm",
      "include_colab_link": true
    },
    "kernelspec": {
      "name": "python3",
      "display_name": "Python 3"
    },
    "accelerator": "GPU"
  },
  "cells": [
    {
      "cell_type": "markdown",
      "metadata": {
        "id": "view-in-github",
        "colab_type": "text"
      },
      "source": [
        "<a href=\"https://colab.research.google.com/github/wolfisberg/zhaw-ba-online/blob/main/High_Performance_Pitch_Detection.ipynb\" target=\"_parent\"><img src=\"https://colab.research.google.com/assets/colab-badge.svg\" alt=\"Open In Colab\"/></a>"
      ]
    },
    {
      "cell_type": "code",
      "metadata": {
        "id": "0Q42BY8BPSoL"
      },
      "source": [
        "from google.colab import drive\n",
        "drive.mount('/content/drive')"
      ],
      "execution_count": null,
      "outputs": []
    },
    {
      "cell_type": "code",
      "metadata": {
        "id": "8R2rTIWJM8I7"
      },
      "source": [
        "import datetime\n",
        "import os\n",
        "\n",
        "import numpy as np\n",
        "import tensorflow as tf\n",
        "import scipy.interpolate\n",
        "import matplotlib.pyplot as plt\n",
        "%load_ext tensorboard\n"
      ],
      "execution_count": 1,
      "outputs": []
    },
    {
      "cell_type": "code",
      "metadata": {
        "id": "CWZIc9-WSItM"
      },
      "source": [
        "config = {}\n",
        "config['batch_size'] = 64\n",
        "config['SNR_range'] = (-5.0,20.0) #dB\n",
        "config['frame_length'] = 512\n",
        "config['frame_step'] = 256\n",
        "config['min_rand_gain'] = 0.05\n",
        "config['max_rand_gain'] = 1.1\n",
        "config['sample_length'] = 3 #shorter than shortest noise/speech sample\n",
        "config['fs'] = 16000\n",
        "config['num_frames'] = 1 + (config['fs']*config['sample_length'] - config['frame_length']) // config['frame_step']\n",
        "config['pitch_sampling_time'] = 0.01 # s\n",
        "config['pitch_confidence_threshold'] = 0.15\n",
        "config['pitch_frame_length'] = 0.032 # s\n",
        "seed = 2"
      ],
      "execution_count": 48,
      "outputs": []
    },
    {
      "cell_type": "code",
      "metadata": {
        "id": "LiWpJb-nMZmH"
      },
      "source": [
        "parsing_config_noise = {\n",
        "        'data': tf.io.VarLenFeature(tf.string),\n",
        "        'data_sampling_rate': tf.io.VarLenFeature(tf.int64),\n",
        "        'data_num_channels': tf.io.VarLenFeature(tf.int64),\n",
        "        'data_width': tf.io.VarLenFeature(tf.int64),\n",
        "        }\n",
        "\n",
        "def parse_noise_record(serialized_example):\n",
        "    parsed_features = tf.io.parse_single_example(\n",
        "        serialized_example, features=parsing_config_noise\n",
        "    )\n",
        "\n",
        "    decoded_features = {\n",
        "        \"data_num_channels\": tf.cast(parsed_features[\"data_num_channels\"].values[0], tf.int32),\n",
        "        \"data_sampling_rate\": tf.cast(parsed_features[\"data_sampling_rate\"].values[0], tf.int32),\n",
        "        \"data_width\": tf.cast(parsed_features[\"data_width\"].values[0], tf.int32),\n",
        "    }\n",
        "    data = tf.io.decode_raw(parsed_features['data'].values[0], tf.int16)\n",
        "    decoded_features.update({\"data\": data})\n",
        "    return decoded_features\n",
        "\n",
        "parsing_config_speech = {\n",
        "        'data': tf.io.VarLenFeature(tf.string),\n",
        "        'data_sampling_rate': tf.io.VarLenFeature(tf.int64),\n",
        "        'data_num_channels': tf.io.VarLenFeature(tf.int64),\n",
        "        'data_width': tf.io.VarLenFeature(tf.int64),\n",
        "        'pitch': tf.io.VarLenFeature(tf.float32),\n",
        "        'pitch_confidence': tf.io.VarLenFeature(tf.float32),\n",
        "        }\n",
        "\n",
        "def parse_speech_record(serialized_example):\n",
        "    parsed_features = tf.io.parse_single_example(\n",
        "        serialized_example, features=parsing_config_speech\n",
        "    )\n",
        "\n",
        "    decoded_features = {\n",
        "        \"data_num_channels\": tf.cast(parsed_features[\"data_num_channels\"].values[0], tf.int32),\n",
        "        \"data_sampling_rate\": tf.cast(parsed_features[\"data_sampling_rate\"].values[0], tf.int32),\n",
        "        \"data_width\": tf.cast(parsed_features[\"data_width\"].values[0], tf.int32),\n",
        "        \"pitch\": tf.cast(parsed_features['pitch'].values, tf.float32),\n",
        "        \"pitch_confidence\": tf.cast(parsed_features['pitch_confidence'].values, tf.float32),\n",
        "    }\n",
        "    data = tf.io.decode_raw(parsed_features['data'].values[0], tf.int16)\n",
        "    decoded_features.update({\"data\": data})\n",
        "    return decoded_features"
      ],
      "execution_count": 50,
      "outputs": []
    },
    {
      "cell_type": "code",
      "metadata": {
        "id": "ioyOSZ-dSzX5"
      },
      "source": [
        "def mix_noisy_speech(speech, noise):   \n",
        "    speech_pow = tf.math.reduce_euclidean_norm(speech)\n",
        "    noise_pow = tf.math.reduce_euclidean_norm(noise)\n",
        "\n",
        "    min_SNR = config['SNR_range'][0]\n",
        "    max_SNR = config['SNR_range'][1]\n",
        "    snr_current = 20.0*tf.math.log(speech_pow/noise_pow)/tf.math.log(10.0)\n",
        "    snr_target = tf.random.uniform((),minval=min_SNR,maxval=max_SNR)\n",
        "\n",
        "    noise = noise * tf.math.pow(10.0,(snr_current-snr_target)/20.0)\n",
        "    noisy_speech = speech+noise\n",
        "\n",
        "    return speech, noise, noisy_speech"
      ],
      "execution_count": 51,
      "outputs": []
    },
    {
      "cell_type": "code",
      "metadata": {
        "id": "OAmRVXpsXsey"
      },
      "source": [
        "def interpolate_pitch(pitch,t):\n",
        "    pitch = pitch.numpy()\n",
        "    t = t.numpy()\n",
        "    t_pitch = np.arange(0, len(pitch))*config['pitch_sampling_time']+config['pitch_frame_length']/2\n",
        "    f = scipy.interpolate.interp1d(t_pitch, pitch, 'nearest')\n",
        "    return f(t).astype(np.float32)\n",
        "\n",
        "@tf.function\n",
        "def interpolate_pitch_tf(pitch,t):\n",
        "    y = tf.py_function(interpolate_pitch,[pitch,t], Tout=tf.float32)\n",
        "    return tf.squeeze(y)\n"
      ],
      "execution_count": 52,
      "outputs": []
    },
    {
      "cell_type": "code",
      "metadata": {
        "id": "nd2WJFq4SX9Z"
      },
      "source": [
        "def calc_features(speech_data, noise_data):\n",
        "    speech = tf.squeeze(tf.cast(speech_data[\"data\"],tf.float32))\n",
        "    noise = tf.squeeze(tf.cast(noise_data[\"data\"],tf.float32))\n",
        "    speech = speech/tf.int16.max\n",
        "    noise = noise/tf.int16.max\n",
        "\n",
        "    random_start_idx = int(tf.round(tf.random.uniform([],maxval=(tf.cast(len(noise),tf.float32)-config['sample_length']*config['fs']-config['pitch_sampling_time']))))\n",
        "    noise = noise[random_start_idx:random_start_idx+config['sample_length']*config['fs']]\n",
        "\n",
        "    random_start_idx = int(tf.round(tf.random.uniform([],minval=161,maxval=(tf.cast(len(speech),tf.float32)-config['sample_length']*config['fs']-161))))\n",
        "    speech = speech[random_start_idx:random_start_idx+config['sample_length']*config['fs']]\n",
        "\n",
        "    SNR_range = config['SNR_range']\n",
        "    frame_length = config['frame_length']\n",
        "    frame_step = config['frame_step']\n",
        "    speech, noise, noisy = mix_noisy_speech(speech, noise)\n",
        "    \n",
        "    random_gain = tf.math.exp(tf.random.uniform([],minval=tf.math.log(config['min_rand_gain']),maxval=tf.math.log(config['max_rand_gain'])))\n",
        "    noisy = random_gain*noisy\n",
        "    \n",
        "    noisy_frames = tf.signal.frame(noisy,frame_length,frame_step)\n",
        "    #noisy_stft = tf.signal.stft(noisy,frame_length,frame_step)\n",
        "    frame_times = random_start_idx/config['fs']+tf.range(0,config['num_frames'])*frame_step/config['fs']+frame_length/config['fs']\n",
        "    \n",
        "    pitch = tf.squeeze(speech_data[\"pitch\"])\n",
        "    pitch_confidence = tf.squeeze(speech_data[\"pitch_confidence\"])\n",
        "    #pitch = tf.where(pitch_confidence>config['pitch_confidence_threshold'],pitch,0)\n",
        "    pitch_interpolated = interpolate_pitch_tf(pitch,frame_times)\n",
        "    return noisy_frames, pitch_interpolated\n",
        "\n"
      ],
      "execution_count": 53,
      "outputs": []
    },
    {
      "cell_type": "markdown",
      "metadata": {
        "id": "USi8TGtFZ9nH"
      },
      "source": [
        "# Dataset"
      ]
    },
    {
      "cell_type": "code",
      "metadata": {
        "id": "ZgHcOd2mNDRk"
      },
      "source": [
        "data_folder = '/content/drive/MyDrive/BA_2021/tfrecords'\n",
        "speech_data_folder = os.path.join(data_folder,'speech', 'cv')\n",
        "noise_data_folder = os.path.join(data_folder,'noise', 'cv')"
      ],
      "execution_count": 56,
      "outputs": []
    },
    {
      "cell_type": "code",
      "metadata": {
        "id": "NYk7tOiUNBP8",
        "colab": {
          "base_uri": "https://localhost:8080/"
        },
        "outputId": "dad0c987-fa4b-4ef2-cfdf-7745e0a20cdf"
      },
      "source": [
        "speech_ds = tf.data.TFRecordDataset([os.path.join(speech_data_folder,file) for file in os.listdir(speech_data_folder)])\n",
        "speech_ds = speech_ds.map(parse_speech_record).repeat(None).shuffle(buffer_size=1000, seed=seed)\n",
        "\n",
        "noise_ds = tf.data.TFRecordDataset([os.path.join(noise_data_folder,file) for file in os.listdir(noise_data_folder)])\n",
        "noise_ds = noise_ds.map(parse_noise_record).repeat(None).shuffle(buffer_size=1000, seed=seed)\n",
        "\n",
        "\n",
        "dataset_combined = tf.data.Dataset.zip((speech_ds, noise_ds))\n",
        "dataset_features = dataset_combined.map(calc_features, num_parallel_calls=tf.data.experimental.AUTOTUNE)\n",
        "dataset_features = dataset_features.batch(config['batch_size'], drop_remainder=True).prefetch(tf.data.experimental.AUTOTUNE)\n",
        "\n",
        "#dataset_training = dataset_features\n",
        "dataset_validation = dataset_features\n",
        "#dataset_test = dataset_features\n",
        "print('ToDo: add validation and test datasets!')"
      ],
      "execution_count": 57,
      "outputs": [
        {
          "output_type": "stream",
          "text": [
            "ToDo: add validation and test datasets!\n"
          ],
          "name": "stdout"
        }
      ]
    },
    {
      "cell_type": "markdown",
      "metadata": {
        "id": "NheECAK6aBCB"
      },
      "source": [
        "## Model Beispiel von Philipp"
      ]
    },
    {
      "cell_type": "code",
      "metadata": {
        "id": "wp2zd6v8VsS2"
      },
      "source": [
        "model = tf.keras.models.Sequential()\n",
        "model.add(tf.keras.layers.LSTM(256,return_sequences=True, input_shape=(config['num_frames'], config['frame_length'])))\n",
        "model.add(tf.keras.layers.LSTM(128,return_sequences=True))\n",
        "model.add(tf.keras.layers.Dense(128,activation='relu'))\n",
        "model.add(tf.keras.layers.Dense(1,activation='relu'))\n",
        "model.compile(loss='mean_squared_error', optimizer='adam')\n",
        "model.summary()"
      ],
      "execution_count": null,
      "outputs": []
    },
    {
      "cell_type": "markdown",
      "metadata": {
        "id": "q2yz6Z7IpjOD"
      },
      "source": [
        "# Crepe"
      ]
    },
    {
      "cell_type": "code",
      "metadata": {
        "id": "b1jj7MTOmqcr"
      },
      "source": [
        "from tensorflow.keras.layers import Input, Reshape, Conv2D, BatchNormalization\n",
        "from tensorflow.keras.layers import MaxPool2D, Dropout, Permute, Flatten, Dense\n",
        "from tensorflow.keras.models import Model\n",
        "\n",
        "\n",
        "layers = [1, 2, 3, 4, 5, 6]\n",
        "filters = [n * 32 for n in [32, 4, 4, 4, 8, 16]]\n",
        "widths = [512, 64, 64, 64, 64, 64]\n",
        "strides = [(4, 1), (1, 1), (1, 1), (1, 1), (1, 1), (1, 1)]\n",
        "\n",
        "x = Input(shape=(1024,), name='input', dtype='float32')\n",
        "y = Reshape(target_shape=(1024, 1, 1), name='input-reshape')(x)\n",
        "print(y)\n",
        "for l, f, w, s in zip(layers, filters, widths, strides):\n",
        "    y = Conv2D(f, (w, 1), strides=s, padding='same',\n",
        "                activation='relu', name=\"conv%d\" % l)(y)\n",
        "    y = BatchNormalization(name=\"conv%d-BN\" % l)(y)\n",
        "    y = MaxPool2D(pool_size=(2, 1), strides=None, padding='valid',\n",
        "                    name=\"conv%d-maxpool\" % l)(y)\n",
        "    y = Dropout(0.25, name=\"conv%d-dropout\" % l)(y)\n",
        "\n",
        "y = Permute((2, 1, 3), name=\"transpose\")(y)\n",
        "y = Flatten(name=\"flatten\")(y)\n",
        "y = Dense(360, activation='sigmoid', name=\"classifier\")(y)\n",
        "\n",
        "model = Model(inputs=x, outputs=y)\n",
        "model.compile('adam', 'binary_crossentropy')"
      ],
      "execution_count": null,
      "outputs": []
    },
    {
      "cell_type": "code",
      "metadata": {
        "id": "RLP7UOP_ovTF"
      },
      "source": [
        "model.summary()"
      ],
      "execution_count": null,
      "outputs": []
    },
    {
      "cell_type": "markdown",
      "metadata": {
        "id": "eyq0DRgesONA"
      },
      "source": [
        "# Luca's Try"
      ]
    },
    {
      "cell_type": "code",
      "metadata": {
        "id": "alDUwb3-FPey"
      },
      "source": [
        "from tensorflow.keras import layers\n",
        "from tensorflow import Tensor\n",
        "from tensorflow.keras.layers import Input, Conv1D, ReLU, BatchNormalization,\\\n",
        "                                    AveragePooling1D, Flatten, Dense, Reshape\n",
        "from tensorflow.keras.models import Model"
      ],
      "execution_count": 14,
      "outputs": []
    },
    {
      "cell_type": "code",
      "metadata": {
        "id": "FraPnrxaBpL2"
      },
      "source": [
        "def resblock(x, filters, kernelsize, dilationrate):\n",
        "    fx = layers.Conv1D(filters, kernelsize,strides=1, dilation_rate=dilationrate, activation='relu', padding='same')(x)\n",
        "    fx = layers.BatchNormalization()(fx)\n",
        "    fx = layers.Conv1D(filters, kernelsize, padding='same')(fx)\n",
        "    out = layers.Add()([x,fx])\n",
        "    out = layers.ReLU()(out)\n",
        "    #out = layers.BatchNormalization()(out)\n",
        "    return out"
      ],
      "execution_count": 15,
      "outputs": []
    },
    {
      "cell_type": "code",
      "metadata": {
        "id": "RJuYMDhkGbyN"
      },
      "source": [
        "def create_cnn():\n",
        "    inputs = Input(shape=(config['num_frames'], config['frame_length']))\n",
        "    #inputs = Input(shape=(1024, 512))\n",
        "    #inputs = Reshape(target_shape=(186, 512, 1))(inputs)\n",
        "    #t = BatchNormalization()(inputs)\n",
        "    t = Conv1D(filters=128, kernel_size=(64), padding='same')(inputs)\n",
        "    dilation_rate_list = [1, 2, 4, 8]\n",
        "    for i in range(len(dilation_rate_list)):\n",
        "        dilation_rate = dilation_rate_list[i]\n",
        "        t = resblock(t, 128, 64, dilation_rate)\n",
        "\n",
        "    t = AveragePooling1D(64)(t)\n",
        "    t = Flatten()(t)\n",
        "\n",
        "    outputs = Dense(1, activation='sigmoid', name=\"classifier\")(t)\n",
        "    model = Model(inputs, outputs)\n",
        "\n",
        "    model.compile(optimizer='adam', loss='binary_crossentropy')\n",
        "\n",
        "    return model\n",
        "\n",
        "    "
      ],
      "execution_count": 21,
      "outputs": []
    },
    {
      "cell_type": "code",
      "metadata": {
        "id": "SajaqqHPFULB"
      },
      "source": [
        "model = create_cnn()\n",
        "model.summary()"
      ],
      "execution_count": null,
      "outputs": []
    },
    {
      "cell_type": "code",
      "metadata": {
        "id": "k-sDAouJnL5r"
      },
      "source": [
        "tf.keras.utils.plot_model(model, show_shapes=True)"
      ],
      "execution_count": null,
      "outputs": []
    },
    {
      "cell_type": "markdown",
      "metadata": {
        "id": "KV-SpsYhaCNV"
      },
      "source": [
        "# Train Model"
      ]
    },
    {
      "cell_type": "code",
      "metadata": {
        "id": "vHZ4eMqMnchd"
      },
      "source": [
        "%tensorboard --logdir /content/drive/MyDrive/BA_2021/logs"
      ],
      "execution_count": null,
      "outputs": []
    },
    {
      "cell_type": "code",
      "metadata": {
        "id": "j7oNvhYTaEnc",
        "colab": {
          "base_uri": "https://localhost:8080/"
        },
        "outputId": "5704761d-9d89-4069-da84-2aff599f4403"
      },
      "source": [
        "print('ToDo: change paths to google drive --> checkpoints (weights of NNs afer each epoch) etc will be permanently saved there')\n",
        "date_time_string = datetime.datetime.now().strftime(\"%Y%m%d-%H%M%S\")\n",
        "logdir = os.path.join(\"/content/drive/MyDrive/BA_2021/logs\", date_time_string)\n",
        "tensorboard_callback = tf.keras.callbacks.TensorBoard(logdir, histogram_freq=1)\n",
        "\n",
        "folder = os.path.join('/content/drive/MyDrive/BA_2021/checkpoints', date_time_string)\n",
        "if not os.path.exists(folder):\n",
        "    os.makedirs(folder)\n",
        "checkpoint = tf.keras.callbacks.ModelCheckpoint(filepath=os.path.join(folder,'{epoch:02d}-{val_loss:.2f}.hdf5'))\n",
        "\n",
        "callbacks = [checkpoint, tensorboard_callback]"
      ],
      "execution_count": 18,
      "outputs": [
        {
          "output_type": "stream",
          "text": [
            "ToDo: change paths to google drive --> checkpoints (weights of NNs afer each epoch) etc will be permanently saved there\n"
          ],
          "name": "stdout"
        }
      ]
    },
    {
      "cell_type": "code",
      "metadata": {
        "id": "uF8FQ84UcFlP"
      },
      "source": [
        "history = model.fit(dataset_training, steps_per_epoch=720, epochs=1600, verbose = 1 ,validation_data = dataset_validation, validation_steps=70, callbacks = callbacks)"
      ],
      "execution_count": null,
      "outputs": []
    }
  ]
}